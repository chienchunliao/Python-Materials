{
 "cells": [
  {
   "cell_type": "raw",
   "id": "ac904dcc-4f6d-40cd-983a-0360c1e1bc1b",
   "metadata": {},
   "source": [
    "1.1 Numeric: Integer & Float\n",
    "    Float: Represents the floating point number(decimals). Python float values are represented as 64-bit double-precision values(float64)."
   ]
  },
  {
   "cell_type": "code",
   "execution_count": 1,
   "id": "e81af5d0-7056-419e-8cf8-919d516854bc",
   "metadata": {},
   "outputs": [
    {
     "name": "stdout",
     "output_type": "stream",
     "text": [
      "<class 'int'>\n",
      "<class 'float'>\n"
     ]
    }
   ],
   "source": [
    "int_1 = 10\n",
    "flo_1 = 1.5\n",
    "\n",
    "print(type(int_1))\n",
    "print(type(flo_1))"
   ]
  },
  {
   "cell_type": "raw",
   "id": "48141c6f-0b9b-4e7d-ad45-161f7f6e2c0f",
   "metadata": {},
   "source": [
    "1.2 Numeric: Common Operators\n",
    "    1. +\n",
    "    2. -\n",
    "    3. * : Multiplication\n",
    "    4. ** : Power (e.g. Square root of x ---> x**0.5)\n",
    "    5. / : Normal division (float) \n",
    "    6. //:Floor division\n",
    "    7. % : Modulus;returns the remainder when the first operand is divided by the second\n",
    "    \n",
    "    PS: When int and float are calculated together, the results are mostly float."
   ]
  },
  {
   "cell_type": "code",
   "execution_count": null,
   "id": "dac07ae3-3d87-4474-ba5d-08d0c360e18e",
   "metadata": {},
   "outputs": [],
   "source": [
    "2 + 3\n",
    "2.0 + 3\n",
    "2.5 + 3.5\n",
    "\n",
    "2 * 3\n",
    "2.0 * 3\n",
    "\n",
    "2 ** 3\n",
    "2.0 ** 3\n",
    "2 ** 3.0\n",
    "4 ** 0.5\n",
    "\n",
    "8 / 3 \n",
    "8 // 3\n",
    "\n",
    "8 % 3"
   ]
  },
  {
   "cell_type": "raw",
   "id": "47890112-7206-4499-9591-55fcb2825c06",
   "metadata": {},
   "source": [
    "1.3 Integer & Float: Common Functions\n",
    "    1. abs(x): \r\n",
    "        Return the absolute value of x值\r\n",
    "    2. int(x):     \r\n",
    "    Conver x to 制轉成integer\r\n",
    "    3. float(x    ):  \r\n",
    "   Conver x to floatfloat \r\n",
    "    4. divmod(x,        y): \r\n",
    " Display the quotient and the remainder(in a tuple) of x divided by yn 商 & 餘\r\n",
    "    5. pow        (x,y): \r",
    "Equal to x**y   同 x**y\r\n",
    "    6. rou\n",
    "        nd(x, n):Return a float number that will be rounded to the n decimal places. If n is not given, the default is 0 decimal place.      取小數n位"
   ]
  },
  {
   "cell_type": "code",
   "execution_count": null,
   "id": "8e35be3a-9be6-4c5d-8a88-213ab5bea97c",
   "metadata": {},
   "outputs": [],
   "source": [
    "abs(-1)\n",
    "\n",
    "int(5)\n",
    "int(1.2)\n",
    "\n",
    "float(2.3)\n",
    "float(2)\n",
    "\n",
    "divmod(8, 3)\n",
    "\n",
    "pow(2, 3)\n",
    "\n",
    "round(1.5)\n",
    "round(2.5)\n",
    "round(1.51, 1)\n",
    "round(1.65, 1)"
   ]
  },
  {
   "cell_type": "raw",
   "id": "50e0ad93-c616-4d6b-9747-b58b31874959",
   "metadata": {},
   "source": [
    "Other methods: (optional)\n",
    "    1. x.is_integer(): \n",
    "        Return True when x is integer\n",
    "    2. x.as_integer_ratio(): \n",
    "        Returns a pair of integers whose ratio is exactly equal to the original float and with a positive denominator"
   ]
  },
  {
   "cell_type": "code",
   "execution_count": null,
   "id": "a38f01ff-1a77-4d6f-8762-730822f8dc9d",
   "metadata": {},
   "outputs": [],
   "source": [
    "1.5.is_integer()\n",
    "1.5.as_integer_ratio()"
   ]
  },
  {
   "cell_type": "raw",
   "id": "18d692a8-5949-4bc8-8f15-cfd545032e62",
   "metadata": {},
   "source": [
    "1.4 \"math\" package\n",
    "    1. math.pi: \n",
    "        3.14159......\n",
    "    2. math.e: \n",
    "        2.71828......\n",
    "    3. math.fabs(x): \n",
    "        abs(x)\n",
    "    4. math.floor(x): \n",
    "        Rounds down and returns the largest integer less than or equal to a given number\n",
    "    5. math.ceil(x): \n",
    "        Rounds up and returns the smallest integer greater than or equal to a given number\n",
    "    6. math.factorial(x): \n",
    "        math.factorial(x) = x! \n",
    "                          = 1*2*3*....*(x-1)*x\n",
    "    7. math.log(x, y): \n",
    "        Return the logarithm of x to base y. If y is not given, return the natural logarithm of x\n",
    "    8. math.pow(x, y): \n",
    "        x**y\n",
    "    9. math.sqrt(x): \n",
    "        x**0.5\n",
    "    10. math.sin()\n",
    "        math.cos()\n",
    "        math.tan()\n",
    "        math.asin()\n",
    "        math.acos()\n",
    "        math.atan()"
   ]
  },
  {
   "cell_type": "code",
   "execution_count": null,
   "id": "a56f50b7-3b68-4d81-aa0f-69a92ba4ee19",
   "metadata": {},
   "outputs": [],
   "source": [
    "import math\r\n",
    "math.pi\r\n",
    "math.e\r\n",
    "math.fabs(-15)\r\n",
    "math.floor(98.6)\r\n",
    "math.floor(-271.1)\r\n",
    "math.ceil(98.6)\r\n",
    "math.ceil(-271.1)\r\n",
    "math.factorial(5)\r\n",
    "math.log(8)\r\n",
    "math.log(8, 2)\r\n",
    "mth.sqrt(4)\r\n"
   ]
  },
  {
   "cell_type": "raw",
   "id": "1a3005d1-065f-402f-9f61-abd56d026b1e",
   "metadata": {},
   "source": [
    "2.1 Text Sequence Type: String\r",
    "    \n",
    "' ' or \" \" o     \r\n",
    "''' ''' or \"\"\" \"\"\" (more than one lin    e\n",
    "ps: String is immutable.s)"
   ]
  },
  {
   "cell_type": "raw",
   "id": "d8ae3c81-fcb2-4670-841a-83520ba2d54d",
   "metadata": {},
   "source": [
    "'a'\n",
    "\n",
    "\"apple\"\n",
    "\n",
    "\"I did nothing.\"\n",
    "\n",
    "'''\n",
    "Python is a high-level, general-purpose programming language. \n",
    "Its design philosophy emphasizes code readability with the use of significant indentation.\n",
    "'''\n",
    "\n",
    "\"\"\"\n",
    "Python is a high-level, general-purpose programming language. \n",
    "Its design philosophy emphasizes code readability with the use of significant indentation.\n",
    "\"\"\""
   ]
  },
  {
   "cell_type": "raw",
   "id": "22b391fb-cacb-4576-b395-87649f80f4af",
   "metadata": {},
   "source": [
    "2.2 String: Getting substring & Slicing & Modifing\n",
    "    1. s[a]: \r\n",
    "        return the character on positiona of string s.\r\n",
    "      PS: Python will 會 rae an e err if out of range.or\r\n",
    "    s2. [a:b:c]: \r\n",
    "        return objects starting from position a, ending at position b(excluded), and steppi in string sng c.\r\n",
    "   PS: Python will not raise error if out of range; it will just r, 會 renothing.empty\r\n",
    "    3. s1 + s2 +.....:\r\n",
    "        Combine strings \r\n",
    "    4. s1 * k:\r\n",
    "        Repeating s1 k times."
   ]
  },
  {
   "cell_type": "code",
   "execution_count": null,
   "id": "3f0fce5c-53cd-422a-9288-731fb56c239b",
   "metadata": {},
   "outputs": [],
   "source": [
    "letters = 'abcdefghijklmnopqrstuvwxyz'\n",
    "letters[3]\n",
    "letters[-3]\n",
    "letters[100] #------> error \"index out of range\"\n",
    "letters[:]\n",
    "letters[10:]\n",
    "letters[12:15]\n",
    "letters[12:-3]\n",
    "letters[::2]\n",
    "letters[12:20:3]\n",
    "letters[::-1]\n",
    "letters[22:100] #-----> \"xyz\"\n",
    "letters[100:] #------> \"\"\n",
    "letters * 2\n",
    "letters + '12345'"
   ]
  },
  {
   "cell_type": "raw",
   "id": "6aef1e6c-cbab-4525-b501-0ba5c1816a07",
   "metadata": {},
   "source": [
    "2.3 String: Escaspe Character(\\*)\n",
    "    1. \\': the ' inside a string\r\n",
    "    2. \\\":the \" inside a string\"\r\n",
    "    3. \\\\the \\ inside a string的\\\r\n",
    "    4. \\b: BackSpace\r\n",
    "    5. new-line symbol: 換行\r\n",
    "    6 Carriage return; return to the beginning of the current line without advancing downward移到最左邊 \r\n",
    "    7. \\: Tab鍵\r\n",
    "    advance downward to the next \"page\" \\f: 換頁"
   ]
  },
  {
   "cell_type": "code",
   "execution_count": 7,
   "id": "9db5c9fd-3d14-4828-b601-41c03968e705",
   "metadata": {},
   "outputs": [
    {
     "name": "stdout",
     "output_type": "stream",
     "text": [
      "ABC'D\n",
      "ABC\"D\n",
      "ABC\\D\n",
      "ABD\n",
      "ABC\n",
      "D\n",
      "DBC\n",
      "ABC\tD\n"
     ]
    }
   ],
   "source": [
    "print(\"ABC\\'D\")\n",
    "print(\"ABC\\\"D\")\n",
    "print(\"ABC\\\\D\")\n",
    "print(\"ABC\\bD\")\n",
    "print(\"ABC\\nD\")\n",
    "print(\"ABC\\rD\")\n",
    "print(\"ABC\\tD\")"
   ]
  },
  {
   "cell_type": "raw",
   "id": "e09734dd-940c-4046-baf6-153d891db43a",
   "metadata": {},
   "source": [
    "2.4 String: Common Functions\n",
    "    1. len(s):\r\n",
    "        Number of characters including space\r\n",
    "    2. sorted(s, key, reverse=False):\r\n",
    "        Return ist  l of sorted characters inside the strin.g s\n",
    "        key: a rule of sorting the characters(usually a functiist\r\n",
    "    3. enumerate(s)\r\n",
    "    4. zip([s1, s2, s3,...\n",
    "\n",
    "PS: Will go into details of sorted, zip, enumerate in list operation...])"
   ]
  },
  {
   "cell_type": "code",
   "execution_count": 17,
   "id": "a46362c4-75bc-4381-8f6f-2c6f1e0b8a45",
   "metadata": {},
   "outputs": [
    {
     "data": {
      "text/plain": [
       "4"
      ]
     },
     "execution_count": 17,
     "metadata": {},
     "output_type": "execute_result"
    }
   ],
   "source": [
    "len(\"ABCD\")"
   ]
  },
  {
   "cell_type": "code",
   "execution_count": 18,
   "id": "20562971-be43-47c0-ae5c-1819c42d912b",
   "metadata": {},
   "outputs": [
    {
     "data": {
      "text/plain": [
       "['A', 'B', 'C', 'D']"
      ]
     },
     "execution_count": 18,
     "metadata": {},
     "output_type": "execute_result"
    }
   ],
   "source": [
    "sorted(\"CADB\")"
   ]
  },
  {
   "cell_type": "code",
   "execution_count": 19,
   "id": "cca1fc45-93e5-4e4e-8995-71b02fa20099",
   "metadata": {},
   "outputs": [
    {
     "name": "stdout",
     "output_type": "stream",
     "text": [
      "('A', '1', 'w')\n",
      "('B', '2', 'x')\n",
      "('C', '3', 'y')\n",
      "('D', '4', 'z')\n"
     ]
    }
   ],
   "source": [
    "for i in zip(\"ABCD\", \"1234\", \"wxyz\"):\n",
    "    print(i)"
   ]
  },
  {
   "cell_type": "code",
   "execution_count": 21,
   "id": "771a2294-537d-4f68-8f34-b1fd2063f018",
   "metadata": {},
   "outputs": [
    {
     "name": "stdout",
     "output_type": "stream",
     "text": [
      "The character on position 0 is a\n",
      "The character on position 1 is p\n",
      "The character on position 2 is p\n",
      "The character on position 3 is l\n",
      "The character on position 4 is e\n"
     ]
    }
   ],
   "source": [
    "for position, char in enumerate('apple'):\n",
    "    print(\"The character on position {} is {}\".format(position, char))"
   ]
  },
  {
   "cell_type": "raw",
   "id": "6d72b479-551b-4a91-a773-fdcac961b56e",
   "metadata": {},
   "source": [
    "2.5 String: Common Methods\n",
    "    1. s.find(x, [start, end]): \n",
    "        Return first index of x in s from position start to end. \n",
    "        Return -1 if x is not found.\n",
    "\n",
    "    2. s.rfind(x): \n",
    "        Return the last index of x. \n",
    "        Return -1 if x is not found.\n",
    "\n",
    "    3. s.index(x, [start, end]): \n",
    "        Return first index of x in s from position start to end. \n",
    "        Raise ValueError if x is not found.\n",
    "\n",
    "    4. s.rindex(x): \n",
    "        Return last index of x in s from position start to end. \n",
    "        Raise ValueError if x is not found.\n",
    "\n",
    "    5. s.replace(old, new[, count]): \n",
    "        Replace old with new for many times.\n",
    "        Returns a copy of the string.\n",
    "        If count is not given, replace all matched. \n",
    "\n",
    "    6. s.split(sep[, maxsplit]):\n",
    "        Returns a list of the words in the string, separated by the sep string. \n",
    "        Default maxsplit=-1, meaning seperate all.\n",
    "\n",
    "    7. s.join(l):\n",
    "        Join elements in l by s. Returns a string.\n",
    "\n",
    "    8. s.lstrip(x):\n",
    "        Returns a copy of the string(s) with leading characters(x) removed. If no argument is passed, it removes leading spaces. \n",
    "        PS: It will remove all the characters appearing in x from s, removing them multiple times.\n",
    "\n",
    "    9. s.removeprefix(x):\n",
    "        Removes the prefix(x) and returns the rest of the string(s). If the prefix string is not found, then it returns the original string\n",
    "        PS: It will remove exact the same substring x from s, removing them just one time.\n",
    "\n",
    "    10. s.rstrip(x):\n",
    "        Returns a copy of the string with trailing characters, x, removed. If no argument is passed, it removes trailing spaces.\n",
    "\n",
    "    11. s.rsplit(sep[, maxsplit]):\n",
    "        The reversed-direction version of s.split()     \n",
    "\n",
    "    12. s.upper():\n",
    "        Converts all uppercase characters in a string into uppercase characters and returns it.\n",
    "\n",
    "    13. s.lower():\n",
    "        Convert all lowercase characters in a string into uppercase characters and returns it.\n",
    "\n",
    "    14. s.capitalize():\n",
    "        Convert the first character of the string to a capital (uppercase) letter while making all other characters in the string lowercase letters.\n",
    "\n",
    "    15. s.title():\n",
    "        Returns a new string after converting the first letter of every word to uppercase(capital) and keeping the rest of the letters lowercase.\n",
    "\n",
    "    16. s.swapcase():\n",
    "        Convert all uppercase characters to lowercase and vice versa of the given string and returns it\n",
    "\n",
    "    17. s.startswith(x):\n",
    "        Return True when s is started with x.\n",
    "\n",
    "    18. s.endswith(x):\n",
    "        Return True when s is ended with x.\n",
    "\n",
    "    19. s.format()"
   ]
  },
  {
   "cell_type": "code",
   "execution_count": 26,
   "id": "e376cb0c-089d-49d4-a6eb-d69fd29559db",
   "metadata": {},
   "outputs": [
    {
     "data": {
      "text/plain": [
       "-1"
      ]
     },
     "execution_count": 26,
     "metadata": {},
     "output_type": "execute_result"
    }
   ],
   "source": [
    "#1. find\n",
    "\"ABAB\".find(\"B\")\n",
    "\"ABAB\".find(\"B\", 2)\n",
    "\"ABAB\".find(\"B\", 5) #-----> -1\n",
    "\"ABAB\".find(\"B\", 2, 4) #----> 3\n",
    "\"ABAB\".find(\"C\") #----> -1"
   ]
  },
  {
   "cell_type": "code",
   "execution_count": 27,
   "id": "2b22267d-0da3-47ef-a552-7ed79100de48",
   "metadata": {},
   "outputs": [
    {
     "data": {
      "text/plain": [
       "3"
      ]
     },
     "execution_count": 27,
     "metadata": {},
     "output_type": "execute_result"
    }
   ],
   "source": [
    "#2. rfind\n",
    "\"ABAB\".rfind(\"B\")"
   ]
  },
  {
   "cell_type": "code",
   "execution_count": 28,
   "id": "8d028b5e-492e-4895-984e-a1b73c289157",
   "metadata": {},
   "outputs": [
    {
     "ename": "ValueError",
     "evalue": "substring not found",
     "output_type": "error",
     "traceback": [
      "\u001b[1;31m---------------------------------------------------------------------------\u001b[0m",
      "\u001b[1;31mValueError\u001b[0m                                Traceback (most recent call last)",
      "Cell \u001b[1;32mIn[28], line 4\u001b[0m\n\u001b[0;32m      2\u001b[0m \u001b[38;5;124m\"\u001b[39m\u001b[38;5;124mABAB\u001b[39m\u001b[38;5;124m\"\u001b[39m\u001b[38;5;241m.\u001b[39mindex(\u001b[38;5;124m\"\u001b[39m\u001b[38;5;124mB\u001b[39m\u001b[38;5;124m\"\u001b[39m)\n\u001b[0;32m      3\u001b[0m \u001b[38;5;124m\"\u001b[39m\u001b[38;5;124mABAB\u001b[39m\u001b[38;5;124m\"\u001b[39m\u001b[38;5;241m.\u001b[39mindex(\u001b[38;5;124m\"\u001b[39m\u001b[38;5;124mB\u001b[39m\u001b[38;5;124m\"\u001b[39m, \u001b[38;5;241m2\u001b[39m)\n\u001b[1;32m----> 4\u001b[0m \u001b[38;5;124m\"\u001b[39m\u001b[38;5;124mABAB\u001b[39m\u001b[38;5;124m\"\u001b[39m\u001b[38;5;241m.\u001b[39mindex(\u001b[38;5;124m\"\u001b[39m\u001b[38;5;124mB\u001b[39m\u001b[38;5;124m\"\u001b[39m, \u001b[38;5;241m5\u001b[39m) \u001b[38;5;66;03m#----> error \"substring not found\"\u001b[39;00m\n\u001b[0;32m      5\u001b[0m \u001b[38;5;124m\"\u001b[39m\u001b[38;5;124mABAB\u001b[39m\u001b[38;5;124m\"\u001b[39m\u001b[38;5;241m.\u001b[39mindex(\u001b[38;5;124m\"\u001b[39m\u001b[38;5;124mB\u001b[39m\u001b[38;5;124m\"\u001b[39m, \u001b[38;5;241m2\u001b[39m, \u001b[38;5;241m4\u001b[39m) \u001b[38;5;66;03m#----> 3\u001b[39;00m\n\u001b[0;32m      6\u001b[0m \u001b[38;5;124m\"\u001b[39m\u001b[38;5;124mABAB\u001b[39m\u001b[38;5;124m\"\u001b[39m\u001b[38;5;241m.\u001b[39mindex(\u001b[38;5;124m\"\u001b[39m\u001b[38;5;124mC\u001b[39m\u001b[38;5;124m\"\u001b[39m)\n",
      "\u001b[1;31mValueError\u001b[0m: substring not found"
     ]
    }
   ],
   "source": [
    "#3. index\n",
    "\"ABAB\".index(\"B\")\n",
    "\"ABAB\".index(\"B\", 2)\n",
    "\"ABAB\".index(\"B\", 5) #----> error \"substring not found\"\n",
    "\"ABAB\".index(\"B\", 2, 4) #----> 3\n",
    "\"ABAB\".index(\"C\") #----> error \"substring not found\""
   ]
  },
  {
   "cell_type": "code",
   "execution_count": 29,
   "id": "3c71acf7-c21f-4502-8435-a6706aeb32b4",
   "metadata": {},
   "outputs": [
    {
     "data": {
      "text/plain": [
       "3"
      ]
     },
     "execution_count": 29,
     "metadata": {},
     "output_type": "execute_result"
    }
   ],
   "source": [
    "#4. rindex\n",
    "\"ABAB\".rindex(\"B\")"
   ]
  },
  {
   "cell_type": "code",
   "execution_count": 30,
   "id": "d4dd01e1-616d-413b-8f21-951aa0d34158",
   "metadata": {},
   "outputs": [
    {
     "data": {
      "text/plain": [
       "'A+B+C*D'"
      ]
     },
     "execution_count": 30,
     "metadata": {},
     "output_type": "execute_result"
    }
   ],
   "source": [
    "#5. replace\n",
    "\"A*B*C*D\".replace('*', '+')\n",
    "\"A*B*C*D\".replace('*', '+', 2)"
   ]
  },
  {
   "cell_type": "code",
   "execution_count": 31,
   "id": "2128915f-a044-40b0-bd09-b77e7dacf1a6",
   "metadata": {},
   "outputs": [
    {
     "data": {
      "text/plain": [
       "['A', 'B', 'C*D']"
      ]
     },
     "execution_count": 31,
     "metadata": {},
     "output_type": "execute_result"
    }
   ],
   "source": [
    "#6. split\n",
    "\"A*B*C*D\".split('*')\n",
    "\"A*B*C*D\".split('*', 2)"
   ]
  },
  {
   "cell_type": "code",
   "execution_count": 32,
   "id": "5d403406-456e-42cd-9478-8055b3f46471",
   "metadata": {},
   "outputs": [
    {
     "data": {
      "text/plain": [
       "'A*B*C*D'"
      ]
     },
     "execution_count": 32,
     "metadata": {},
     "output_type": "execute_result"
    }
   ],
   "source": [
    "#7. join\n",
    "'*'.join(['A','B','C','D'])"
   ]
  },
  {
   "cell_type": "code",
   "execution_count": 46,
   "id": "0b532a79-1b23-435d-986f-ce8d41d88844",
   "metadata": {},
   "outputs": [
    {
     "name": "stdout",
     "output_type": "stream",
     "text": [
      "ABABCDEF\n",
      "CDEF\n"
     ]
    }
   ],
   "source": [
    "#8. lstrip\n",
    "print(\"ABABCDEF\".lstrip('B'))\n",
    "print(\"ABABCDEF\".lstrip('AB'))"
   ]
  },
  {
   "cell_type": "code",
   "execution_count": 45,
   "id": "1ce01f9d-ea06-4e97-9422-a03395ea3ab2",
   "metadata": {},
   "outputs": [
    {
     "name": "stdout",
     "output_type": "stream",
     "text": [
      "ee!\n",
      "three!\n"
     ]
    }
   ],
   "source": [
    "#9. removeprefix\n",
    "print('Arthur: three!'.lstrip('Arthur: '))\n",
    "print('Arthur: three!'.removeprefix('Arthur: '))"
   ]
  },
  {
   "cell_type": "code",
   "execution_count": 35,
   "id": "12e83323-bec9-46c4-88d1-225119ef771e",
   "metadata": {},
   "outputs": [
    {
     "data": {
      "text/plain": [
       "'ABABCD'"
      ]
     },
     "execution_count": 35,
     "metadata": {},
     "output_type": "execute_result"
    }
   ],
   "source": [
    "#10. rstrip\n",
    "\"ABABCDEFFE\".rstrip('E')\n",
    "\"ABABCDEFFE\".rstrip('EF')"
   ]
  },
  {
   "cell_type": "code",
   "execution_count": 36,
   "id": "59b59fc4-bdf4-43c0-8705-e36f9fcf6939",
   "metadata": {},
   "outputs": [
    {
     "data": {
      "text/plain": [
       "'ABCD'"
      ]
     },
     "execution_count": 36,
     "metadata": {},
     "output_type": "execute_result"
    }
   ],
   "source": [
    "#11. upper\n",
    "\"abcd\".upper()"
   ]
  },
  {
   "cell_type": "code",
   "execution_count": 37,
   "id": "e96a67d7-e936-4f71-a34c-0fe92c96c7ff",
   "metadata": {},
   "outputs": [
    {
     "data": {
      "text/plain": [
       "'abcd'"
      ]
     },
     "execution_count": 37,
     "metadata": {},
     "output_type": "execute_result"
    }
   ],
   "source": [
    "#12. lower\n",
    "\"ABCD\".lower()"
   ]
  },
  {
   "cell_type": "code",
   "execution_count": 38,
   "id": "2baa50ea-a2d4-4a22-9a88-84b662a470ac",
   "metadata": {},
   "outputs": [
    {
     "data": {
      "text/plain": [
       "'Abcd'"
      ]
     },
     "execution_count": 38,
     "metadata": {},
     "output_type": "execute_result"
    }
   ],
   "source": [
    "#13. capitalize\n",
    "\"abcd\".capitalize()"
   ]
  },
  {
   "cell_type": "code",
   "execution_count": 39,
   "id": "b8b26abe-8ca0-4cd0-9acf-f2522026f77d",
   "metadata": {},
   "outputs": [
    {
     "data": {
      "text/plain": [
       "'The University Of Texas At Dallas'"
      ]
     },
     "execution_count": 39,
     "metadata": {},
     "output_type": "execute_result"
    }
   ],
   "source": [
    "#14. title \n",
    "\"the university of texas at dallas\".title()"
   ]
  },
  {
   "cell_type": "code",
   "execution_count": 40,
   "id": "aca97515-a94c-481a-aa27-47413a298d00",
   "metadata": {},
   "outputs": [
    {
     "data": {
      "text/plain": [
       "'aBcD'"
      ]
     },
     "execution_count": 40,
     "metadata": {},
     "output_type": "execute_result"
    }
   ],
   "source": [
    "#15. swapcase\n",
    "\"AbCd\".swapcase()"
   ]
  },
  {
   "cell_type": "code",
   "execution_count": 41,
   "id": "665a85eb-cb3b-4d15-8796-0fb02c9edaee",
   "metadata": {},
   "outputs": [
    {
     "data": {
      "text/plain": [
       "False"
      ]
     },
     "execution_count": 41,
     "metadata": {},
     "output_type": "execute_result"
    }
   ],
   "source": [
    "#16. startswith\n",
    "\"ABCD\".startswith(\"A\")\n",
    "\"ABCD\".startswith(\"B\")"
   ]
  },
  {
   "cell_type": "code",
   "execution_count": 42,
   "id": "b8ccf32f-4afe-4327-a4f4-23bd7d5ce897",
   "metadata": {},
   "outputs": [
    {
     "data": {
      "text/plain": [
       "False"
      ]
     },
     "execution_count": 42,
     "metadata": {},
     "output_type": "execute_result"
    }
   ],
   "source": [
    "#17. endswith\n",
    "\"ABCD\".endswith(\"D\")\n",
    "\"ABCD\".endswith(\"B\")"
   ]
  },
  {
   "cell_type": "code",
   "execution_count": 43,
   "id": "882415e8-47f6-4ff0-9c7c-a04f3675bd17",
   "metadata": {},
   "outputs": [
    {
     "data": {
      "text/plain": [
       "'Today is 2022-5-16'"
      ]
     },
     "execution_count": 43,
     "metadata": {},
     "output_type": "execute_result"
    }
   ],
   "source": [
    "#18. format\n",
    "\n",
    "\"Today is {}-{}-{}\".format(2022, 5, 16)\n",
    "\"Today is {y}-{m}-{d}\".format(y = 2022, m = 5, d = 16)\n",
    "\"Today is {2}-{0}-{1}\".format(5, 16, 2022)\n",
    "\"Today is {2}-{0}-{1}\".format(*[5, 16, 2022])"
   ]
  },
  {
   "cell_type": "raw",
   "id": "d779c56c-4ddb-44f5-9bc6-72929567804c",
   "metadata": {},
   "source": [
    "2.6 f-string and r-string\n",
    "    f-string is the "
   ]
  },
  {
   "cell_type": "raw",
   "id": "c801a304-c230-4a3e-9de6-b1a5dd338fd6",
   "metadata": {},
   "source": [
    "3.1 Sequence Types: List\n",
    "    Lists are used to store multiple items in a single sequential variable.\n",
    "    List items are ordered, changeable, and allow duplicate values.\n",
    "    Lists need not be homogeneous always, which means we can store different type of variables in one list.\n",
    "    List items are indexed, the first item has index 0, the second item has index 1 etc."
   ]
  },
  {
   "cell_type": "code",
   "execution_count": null,
   "id": "f936bb95-11e2-4d50-b9ef-e33ad08820bb",
   "metadata": {},
   "outputs": [],
   "source": [
    "[1,2,3]\n",
    "[1, 'a', 2.0, 'b', True]\n",
    "[[1, 2], [3, 4], [5, 6]]"
   ]
  },
  {
   "cell_type": "raw",
   "id": "d43f43cf-82a8-4777-a5ef-e20204c6b2f6",
   "metadata": {},
   "source": [
    "3.2 List: Getting Elements & Slicing & Modifing value\n",
    "    1. l[x]: \n",
    "        Return the object on position x.\n",
    "        PS: Will raise error when out of range.\n",
    "\n",
    "    2. l[a:b:c]: \n",
    "        Return iterable(a copy) starting from position a, \n",
    "            ending at position b(excluded), and stepping c.\n",
    "        The original iterable will not changed.\n",
    "        PS: Will not raise error when out of range; will just return nothing.\n",
    "\n",
    "    3. l[k] = x:\n",
    "        Change the element on position k in the list to x.\n",
    "\n",
    "    4. l1 + l2:\n",
    "        concat l1 and l2\n",
    "\n",
    "    5. l1 * n:\n",
    "        repeat n times"
   ]
  },
  {
   "cell_type": "code",
   "execution_count": 48,
   "id": "9c7b446c-b465-4d50-89ab-35c4f3265d62",
   "metadata": {},
   "outputs": [
    {
     "ename": "IndexError",
     "evalue": "list index out of range",
     "output_type": "error",
     "traceback": [
      "\u001b[1;31m---------------------------------------------------------------------------\u001b[0m",
      "\u001b[1;31mIndexError\u001b[0m                                Traceback (most recent call last)",
      "Cell \u001b[1;32mIn[48], line 3\u001b[0m\n\u001b[0;32m      1\u001b[0m \u001b[38;5;66;03m#1. get elements\u001b[39;00m\n\u001b[0;32m      2\u001b[0m [\u001b[38;5;124m'\u001b[39m\u001b[38;5;124ma\u001b[39m\u001b[38;5;124m'\u001b[39m,\u001b[38;5;124m'\u001b[39m\u001b[38;5;124mb\u001b[39m\u001b[38;5;124m'\u001b[39m,\u001b[38;5;124m'\u001b[39m\u001b[38;5;124mc\u001b[39m\u001b[38;5;124m'\u001b[39m][\u001b[38;5;241m0\u001b[39m]\n\u001b[1;32m----> 3\u001b[0m [\u001b[38;5;124m'\u001b[39m\u001b[38;5;124ma\u001b[39m\u001b[38;5;124m'\u001b[39m,\u001b[38;5;124m'\u001b[39m\u001b[38;5;124mb\u001b[39m\u001b[38;5;124m'\u001b[39m,\u001b[38;5;124m'\u001b[39m\u001b[38;5;124mc\u001b[39m\u001b[38;5;124m'\u001b[39m][\u001b[38;5;241m4\u001b[39m] \u001b[38;5;66;03m#----> error\u001b[39;00m\n\u001b[0;32m      4\u001b[0m [\u001b[38;5;124m'\u001b[39m\u001b[38;5;124ma\u001b[39m\u001b[38;5;124m'\u001b[39m,\u001b[38;5;124m'\u001b[39m\u001b[38;5;124mb\u001b[39m\u001b[38;5;124m'\u001b[39m,\u001b[38;5;124m'\u001b[39m\u001b[38;5;124mc\u001b[39m\u001b[38;5;124m'\u001b[39m][\u001b[38;5;241m-\u001b[39m\u001b[38;5;241m1\u001b[39m]\n\u001b[0;32m      5\u001b[0m [\u001b[38;5;124m'\u001b[39m\u001b[38;5;124ma\u001b[39m\u001b[38;5;124m'\u001b[39m,\u001b[38;5;124m'\u001b[39m\u001b[38;5;124mb\u001b[39m\u001b[38;5;124m'\u001b[39m,\u001b[38;5;124m'\u001b[39m\u001b[38;5;124mc\u001b[39m\u001b[38;5;124m'\u001b[39m][\u001b[38;5;241m-\u001b[39m\u001b[38;5;241m2\u001b[39m]\n",
      "\u001b[1;31mIndexError\u001b[0m: list index out of range"
     ]
    }
   ],
   "source": [
    "#1. get elements\n",
    "['a','b','c'][0]\n",
    "['a','b','c'][4] #----> error\n",
    "['a','b','c'][-1]\n",
    "['a','b','c'][-2]\n",
    "a, b, c = ['a', 'b', 'c']\n",
    "a, b, c = ['a', 'b', 'c', 'd', 'e']\n",
    "a, b, *c = ['a', 'b', 'c', 'd', 'e']\n",
    "a, *b, c = ['a', 'b', 'c', 'd', 'e']\n",
    "*a, b, c = ['a', 'b', 'c', 'd', 'e']"
   ]
  },
  {
   "cell_type": "code",
   "execution_count": 53,
   "id": "3fbda3b6-ca2d-4156-bb7a-b48e8cf5064a",
   "metadata": {},
   "outputs": [
    {
     "data": {
      "text/plain": [
       "[]"
      ]
     },
     "execution_count": 53,
     "metadata": {},
     "output_type": "execute_result"
    }
   ],
   "source": [
    "#2. slice\n",
    "['a','b','c', 'd', 'e'][1:3:2]\n",
    "['a','b','c', 'd', 'e'][1:3:-1]\n",
    "['a','b','c', 'd', 'e'][:3]\n",
    "['a','b','c', 'd', 'e'][1:]\n",
    "['a','b','c', 'd', 'e'][::-1]\n",
    "['a','b','c', 'd', 'e'][:] #---> get all elements\n",
    "['a','b','c', 'd', 'e'][5:8] #----> [] (empty list)"
   ]
  },
  {
   "cell_type": "code",
   "execution_count": 50,
   "id": "91260479-97aa-4a18-865e-99e0d4a50b34",
   "metadata": {},
   "outputs": [],
   "source": [
    "#3. modify\n",
    "['a','b','c', 'd', 'e'][1] = 5\n",
    "['a','b','c', 'd', 'e'][1:3] = [1, 2]\n",
    "lis = [25,26,30]"
   ]
  },
  {
   "cell_type": "code",
   "execution_count": 51,
   "id": "af9046c9-841b-46c2-b2ed-d4c431122217",
   "metadata": {},
   "outputs": [
    {
     "data": {
      "text/plain": [
       "['a', 'b', 'c', 1, 2, 3]"
      ]
     },
     "execution_count": 51,
     "metadata": {},
     "output_type": "execute_result"
    }
   ],
   "source": [
    "#4. +\n",
    "[1, 2, 3] + [4, 5, 6]\n",
    "['a','b','c'] + [1, 2, 3]\n",
    "## Cannnot apply '-' to two lists. \n",
    "##     e.g.[1, 2, 3] - [2, 3]"
   ]
  },
  {
   "cell_type": "code",
   "execution_count": 52,
   "id": "04a291f1-7838-461f-8910-9ee730d567b1",
   "metadata": {},
   "outputs": [
    {
     "data": {
      "text/plain": [
       "['a', 'b', 'c', 'a', 'b', 'c']"
      ]
     },
     "execution_count": 52,
     "metadata": {},
     "output_type": "execute_result"
    }
   ],
   "source": [
    "#5. *\n",
    "[1, 2, 3] * 2\n",
    "['a','b','c'] * 2"
   ]
  },
  {
   "cell_type": "raw",
   "id": "0bd81e68-e26d-4ad3-8ee7-6b44c26fe2bd",
   "metadata": {},
   "source": [
    "3.3 List: Common Functions\n",
    "    1. enumerate(l)\n",
    "\n",
    "    2. len(l):\n",
    "        Count the number of elements in the list.\n",
    "\n",
    "    3. min(l):\n",
    "        Return the minimium value in list.\n",
    "\n",
    "    4. max(l):\n",
    "        Return the maximium value in the list.\n",
    "\n",
    "    5. sum(l):\n",
    "        Return the summation of the list.\n",
    "\n",
    "    6. zip([l1,l2,l3,......])\n",
    "\n",
    "    7. sorted(iterable, key, reverse=False):\n",
    "        Return a sorted list.\n",
    "        The original list will not change.\n",
    "        reverse=False ------> smallest to largest\n",
    "        reverse=True  ------> largest to smallest\n",
    "        key: the sorting creteria ------> usually a function, e.g.\"lambda\""
   ]
  },
  {
   "cell_type": "code",
   "execution_count": 55,
   "id": "54d2fd76-6ee2-4277-9d64-f924e2054da3",
   "metadata": {},
   "outputs": [
    {
     "name": "stdout",
     "output_type": "stream",
     "text": [
      "The element in position 0 is a\n",
      "The element in position 1 is b\n",
      "The element in position 2 is c\n",
      "The element in position 3 is d\n"
     ]
    }
   ],
   "source": [
    "#1. enumerate\n",
    "for position, element in enumerate(['a', 'b', 'c', 'd']):\n",
    "    print(\"The element in position {} is {}\".format(position, element))"
   ]
  },
  {
   "cell_type": "code",
   "execution_count": 56,
   "id": "a1fb4bf9-fbfb-4bc0-9a42-112f2b6ce47a",
   "metadata": {},
   "outputs": [
    {
     "data": {
      "text/plain": [
       "3"
      ]
     },
     "execution_count": 56,
     "metadata": {},
     "output_type": "execute_result"
    }
   ],
   "source": [
    "#2. len\n",
    "len([1, 2, 3])"
   ]
  },
  {
   "cell_type": "code",
   "execution_count": 57,
   "id": "ea38617a-822f-4c7e-9b1a-1bb2782b9672",
   "metadata": {},
   "outputs": [
    {
     "data": {
      "text/plain": [
       "1"
      ]
     },
     "execution_count": 57,
     "metadata": {},
     "output_type": "execute_result"
    }
   ],
   "source": [
    "#3. min\n",
    "min([1, 2, 3])"
   ]
  },
  {
   "cell_type": "code",
   "execution_count": 58,
   "id": "b3196a66-b6ae-421d-a6d0-2aa03ae8b72d",
   "metadata": {},
   "outputs": [
    {
     "data": {
      "text/plain": [
       "3"
      ]
     },
     "execution_count": 58,
     "metadata": {},
     "output_type": "execute_result"
    }
   ],
   "source": [
    "#4. max\n",
    "max([1, 2, 3])"
   ]
  },
  {
   "cell_type": "code",
   "execution_count": 59,
   "id": "9f2afc1a-86dd-4813-bc50-26c743dbf390",
   "metadata": {},
   "outputs": [
    {
     "data": {
      "text/plain": [
       "6"
      ]
     },
     "execution_count": 59,
     "metadata": {},
     "output_type": "execute_result"
    }
   ],
   "source": [
    "#5. sum\n",
    "sum([1, 2, 3])"
   ]
  },
  {
   "cell_type": "code",
   "execution_count": 60,
   "id": "a4df196b-1895-47cc-819f-a085c3c7ecb9",
   "metadata": {},
   "outputs": [
    {
     "data": {
      "text/plain": [
       "[('a', 1, 'x'), ('b', 2, 'y'), ('c', 3, 'z')]"
      ]
     },
     "execution_count": 60,
     "metadata": {},
     "output_type": "execute_result"
    }
   ],
   "source": [
    "#6. zip\n",
    "list(zip(['a','b','c'], [1,2,3], ['x','y','z']))"
   ]
  },
  {
   "cell_type": "code",
   "execution_count": null,
   "id": "2698b935-e781-4197-bc83-16e35a3634a7",
   "metadata": {},
   "outputs": [],
   "source": [
    "#7. sorted\n",
    "l = [5,4,1,2,3]\n",
    "l_sorted = sorted(l)\n",
    "l_sorted_rev = sorted(l, reverse=True)\n",
    "\n",
    "l1 = [['a', 4], ['c', 2], ['d', 1], ['b', 3]]\n",
    "l1_by_char = sorted(l1, key=lambda x:x[0])\n",
    "l1_by_char_rev = sorted(l1, key=lambda x:x[0], reverse=True)\n",
    "l1_by_numb = sorted(l1, key=lambda x:x[1])\n",
    "l1_by_numb_rev = sorted(l1, key=lambda x:x[1], reverse=True)"
   ]
  },
  {
   "cell_type": "raw",
   "id": "7e432b59-98d8-4a99-a12c-16775e24e037",
   "metadata": {},
   "source": [
    "3.4 List: Common Method\n",
    "Type help(list.*) in terminal to see the details of each method\n",
    "    1. l.clear():\n",
    "        empty the list\n",
    "\n",
    "    2. l.append(x):\n",
    "        add x to the end of list\n",
    "\n",
    "    3. l1.extend(l2): \n",
    "        the same as \"l1 += l2\"\n",
    "\n",
    "    4. l.insert(k, x):\n",
    "        Insert x in position k, others move back one position.\n",
    "        Change the original list.\n",
    "\n",
    "    5. l.sort(key, reverse=False):\n",
    "        Permantly changed the order of original list\n",
    "        reverse=False ------> small to larger\n",
    "        reverse=True  ------> large to small\n",
    "        key: the sorting creteria ------> usually use \"lambda\"\n",
    "\n",
    "    6. l.reverse():\n",
    "        Permantly reverse the order of the original list\n",
    "\n",
    "    7. l.pop(k=-1):\n",
    "        Take out and return the element in k position.\n",
    "        Default: the last element.\n",
    "        The original list will change.\n",
    "        Raises \"IndexError\" if list is empty or index is out of range.\n",
    "\n",
    "    8. l.remove(x):\n",
    "        Remove only the firt element x in l.\n",
    "        If x is not found, raise \"Value Error\".\n",
    "\n",
    "    8.1. del l[x]:\n",
    "        Remove the element on position x\n",
    "\n",
    "    8.2. del l:\n",
    "        Remove the whole list object\n",
    "\n",
    "    9. l.index(x, [start, stop]):\n",
    "        Return the position of the first element x.\n",
    "        Raises \"ValueError\" if x is not found.\n",
    "\n",
    "    10. l.count(x):\n",
    "        Count the occurance of element x in list.\n",
    "\n",
    "    11. l.copy():\n",
    "        Return a copy of l.\n",
    "        Use this if you don't want to change the original list."
   ]
  },
  {
   "cell_type": "code",
   "execution_count": 63,
   "id": "680ad7a7-6d45-453b-bb3d-a34a88bcf37d",
   "metadata": {},
   "outputs": [
    {
     "name": "stdout",
     "output_type": "stream",
     "text": [
      "[]\n"
     ]
    }
   ],
   "source": [
    "#1. clear\n",
    "a = [1,2,3]\n",
    "a.clear()\n",
    "print(a)"
   ]
  },
  {
   "cell_type": "code",
   "execution_count": 64,
   "id": "74ae493c-18de-47b6-b48f-669b11b2b20a",
   "metadata": {},
   "outputs": [
    {
     "name": "stdout",
     "output_type": "stream",
     "text": [
      "[1, 2, 3, 4]\n"
     ]
    }
   ],
   "source": [
    "#2. append\n",
    "a = [1,2,3]\n",
    "a.append(4)\n",
    "print(a)"
   ]
  },
  {
   "cell_type": "code",
   "execution_count": 65,
   "id": "71f46e81-cfb7-449f-9f65-04b5600afc21",
   "metadata": {},
   "outputs": [
    {
     "name": "stdout",
     "output_type": "stream",
     "text": [
      "[1, 2, 3, 'a', 'b', 'c']\n",
      "[1, 2, 3, 'a', 'b', 'c']\n"
     ]
    }
   ],
   "source": [
    "#3. extend\n",
    "a = [1,2,3]\n",
    "a.extend(['a','b','c'])\n",
    "print(a)\n",
    "a = [1,2,3]\n",
    "a += ['a','b','c']\n",
    "print(a)"
   ]
  },
  {
   "cell_type": "code",
   "execution_count": 66,
   "id": "53512d7b-f560-4a0e-be48-e152d66ad62e",
   "metadata": {},
   "outputs": [
    {
     "name": "stdout",
     "output_type": "stream",
     "text": [
      "['a', 1, 2, 3]\n",
      "['a', 1, 2, 3, 'b']\n"
     ]
    }
   ],
   "source": [
    "#4. insert\n",
    "a = [1,2,3]\n",
    "a.insert(0,'a')\n",
    "print(a)\n",
    "a.insert(5,'b')\n",
    "print(a)"
   ]
  },
  {
   "cell_type": "code",
   "execution_count": 72,
   "id": "389cde1c-4017-4c40-9b82-9781e3f75b0a",
   "metadata": {},
   "outputs": [
    {
     "name": "stdout",
     "output_type": "stream",
     "text": [
      "[5, 4, 3, 2, 1]\n",
      "[['a', 4], ['b', 3], ['c', 2], ['d', 1]]\n",
      "[['d', 1], ['c', 2], ['b', 3], ['a', 4]]\n",
      "[['d', 1], ['c', 2], ['b', 3], ['a', 4]]\n",
      "[['a', 4], ['b', 3], ['c', 2], ['d', 1]]\n"
     ]
    }
   ],
   "source": [
    "#5. sort\n",
    "l = [5,4,1,2,3]\n",
    "l.sort()\n",
    "l.sort(reverse=True)\n",
    "print(l)\n",
    "\n",
    "l1 = [['a', 4], ['c', 2], ['d', 1], ['b', 3]]\n",
    "l1.sort(key=lambda x:x[0])\n",
    "print(l1)\n",
    "l1.sort(key=lambda x:x[0], reverse=True)\n",
    "print(l1)\n",
    "l1.sort(key=lambda x:x[1])\n",
    "print(l1)\n",
    "l1.sort(key=lambda x:x[0], reverse=False)\n",
    "print(l1)"
   ]
  },
  {
   "cell_type": "code",
   "execution_count": 73,
   "id": "70b925cd-5a1d-4aca-b313-e04579758fc0",
   "metadata": {},
   "outputs": [
    {
     "name": "stdout",
     "output_type": "stream",
     "text": [
      "[3, 2, 1, 4, 5]\n"
     ]
    }
   ],
   "source": [
    "#6. reverse\n",
    "l = [5,4,1,2,3]\n",
    "l.reverse()\n",
    "print(l)"
   ]
  },
  {
   "cell_type": "code",
   "execution_count": 74,
   "id": "c8125f5f-9acb-433e-a307-45497f457a83",
   "metadata": {},
   "outputs": [
    {
     "name": "stdout",
     "output_type": "stream",
     "text": [
      "d\n",
      "a\n"
     ]
    },
    {
     "ename": "IndexError",
     "evalue": "pop index out of range",
     "output_type": "error",
     "traceback": [
      "\u001b[1;31m---------------------------------------------------------------------------\u001b[0m",
      "\u001b[1;31mIndexError\u001b[0m                                Traceback (most recent call last)",
      "Cell \u001b[1;32mIn[74], line 7\u001b[0m\n\u001b[0;32m      5\u001b[0m x \u001b[38;5;241m=\u001b[39m l\u001b[38;5;241m.\u001b[39mpop(\u001b[38;5;241m0\u001b[39m)\n\u001b[0;32m      6\u001b[0m \u001b[38;5;28mprint\u001b[39m(x)\n\u001b[1;32m----> 7\u001b[0m x \u001b[38;5;241m=\u001b[39m l\u001b[38;5;241m.\u001b[39mpop(\u001b[38;5;241m6\u001b[39m) \u001b[38;5;66;03m#----> IndexError\u001b[39;00m\n\u001b[0;32m      8\u001b[0m \u001b[38;5;28mprint\u001b[39m(x)\n",
      "\u001b[1;31mIndexError\u001b[0m: pop index out of range"
     ]
    }
   ],
   "source": [
    "#7. pop\n",
    "l = ['a','b', 'c','d']\n",
    "x = l.pop()\n",
    "print(x)\n",
    "x = l.pop(0)\n",
    "print(x)\n",
    "x = l.pop(6) #----> IndexError\n",
    "print(x)"
   ]
  },
  {
   "cell_type": "code",
   "execution_count": 76,
   "id": "512215fa-9ed8-433f-bb6c-600b4c5588e9",
   "metadata": {},
   "outputs": [
    {
     "name": "stdout",
     "output_type": "stream",
     "text": [
      "['a', 'a', 'b', 'd']\n",
      "['a', 'b', 'd']\n"
     ]
    },
    {
     "ename": "ValueError",
     "evalue": "list.remove(x): x not in list",
     "output_type": "error",
     "traceback": [
      "\u001b[1;31m---------------------------------------------------------------------------\u001b[0m",
      "\u001b[1;31mValueError\u001b[0m                                Traceback (most recent call last)",
      "Cell \u001b[1;32mIn[76], line 7\u001b[0m\n\u001b[0;32m      5\u001b[0m l\u001b[38;5;241m.\u001b[39mremove(\u001b[38;5;124m'\u001b[39m\u001b[38;5;124ma\u001b[39m\u001b[38;5;124m'\u001b[39m)\n\u001b[0;32m      6\u001b[0m \u001b[38;5;28mprint\u001b[39m(l)\n\u001b[1;32m----> 7\u001b[0m l\u001b[38;5;241m.\u001b[39mremove(\u001b[38;5;124m'\u001b[39m\u001b[38;5;124mf\u001b[39m\u001b[38;5;124m'\u001b[39m) \u001b[38;5;66;03m#----> ValueError\u001b[39;00m\n\u001b[0;32m      8\u001b[0m \u001b[38;5;28mprint\u001b[39m(l)\n",
      "\u001b[1;31mValueError\u001b[0m: list.remove(x): x not in list"
     ]
    }
   ],
   "source": [
    "#8. remove\n",
    "l = ['a', 'a', 'b', 'c', 'd']\n",
    "l.remove('c')\n",
    "print(l)\n",
    "l.remove('a')\n",
    "print(l)\n",
    "l.remove('f') #----> ValueError\n",
    "print(l)"
   ]
  },
  {
   "cell_type": "code",
   "execution_count": 77,
   "id": "1ae50739-e72b-495c-bcb2-3fafc229255b",
   "metadata": {},
   "outputs": [],
   "source": [
    "#8.1 del l[x]\n",
    "l = ['a','b','c', 'd', 'e']\n",
    "del l[2]\n",
    "del l[1:3]\n",
    "del l[1:4:2]"
   ]
  },
  {
   "cell_type": "code",
   "execution_count": 78,
   "id": "9b99da5c-6eff-4ccc-9aa8-27b5c5f8f6b0",
   "metadata": {},
   "outputs": [
    {
     "ename": "NameError",
     "evalue": "name 'l' is not defined",
     "output_type": "error",
     "traceback": [
      "\u001b[1;31m---------------------------------------------------------------------------\u001b[0m",
      "\u001b[1;31mNameError\u001b[0m                                 Traceback (most recent call last)",
      "Cell \u001b[1;32mIn[78], line 4\u001b[0m\n\u001b[0;32m      2\u001b[0m l \u001b[38;5;241m=\u001b[39m [\u001b[38;5;124m'\u001b[39m\u001b[38;5;124ma\u001b[39m\u001b[38;5;124m'\u001b[39m,\u001b[38;5;124m'\u001b[39m\u001b[38;5;124mb\u001b[39m\u001b[38;5;124m'\u001b[39m,\u001b[38;5;124m'\u001b[39m\u001b[38;5;124mc\u001b[39m\u001b[38;5;124m'\u001b[39m, \u001b[38;5;124m'\u001b[39m\u001b[38;5;124md\u001b[39m\u001b[38;5;124m'\u001b[39m, \u001b[38;5;124m'\u001b[39m\u001b[38;5;124me\u001b[39m\u001b[38;5;124m'\u001b[39m]\n\u001b[0;32m      3\u001b[0m \u001b[38;5;28;01mdel\u001b[39;00m l\n\u001b[1;32m----> 4\u001b[0m l\n",
      "\u001b[1;31mNameError\u001b[0m: name 'l' is not defined"
     ]
    }
   ],
   "source": [
    "#8.2 del l\n",
    "l = ['a','b','c', 'd', 'e']\n",
    "del l\n",
    "l"
   ]
  },
  {
   "cell_type": "code",
   "execution_count": 84,
   "id": "d45cea1e-679e-41f6-a5a1-c06df29305a6",
   "metadata": {},
   "outputs": [
    {
     "name": "stdout",
     "output_type": "stream",
     "text": [
      "0\n",
      "1\n"
     ]
    },
    {
     "ename": "ValueError",
     "evalue": "'x' is not in list",
     "output_type": "error",
     "traceback": [
      "\u001b[1;31m---------------------------------------------------------------------------\u001b[0m",
      "\u001b[1;31mValueError\u001b[0m                                Traceback (most recent call last)",
      "Cell \u001b[1;32mIn[84], line 7\u001b[0m\n\u001b[0;32m      5\u001b[0m ind_b \u001b[38;5;241m=\u001b[39m l\u001b[38;5;241m.\u001b[39mindex(\u001b[38;5;124m'\u001b[39m\u001b[38;5;124mb\u001b[39m\u001b[38;5;124m'\u001b[39m)\n\u001b[0;32m      6\u001b[0m \u001b[38;5;28mprint\u001b[39m(ind_b)\n\u001b[1;32m----> 7\u001b[0m ind_x \u001b[38;5;241m=\u001b[39m l\u001b[38;5;241m.\u001b[39mindex(\u001b[38;5;124m'\u001b[39m\u001b[38;5;124mx\u001b[39m\u001b[38;5;124m'\u001b[39m) \u001b[38;5;66;03m#----> ValueError\u001b[39;00m\n\u001b[0;32m      8\u001b[0m \u001b[38;5;28mprint\u001b[39m(ind_x)\n",
      "\u001b[1;31mValueError\u001b[0m: 'x' is not in list"
     ]
    }
   ],
   "source": [
    "#9. index\n",
    "l = ['a', 'b', 'b', 'c', 'd']\n",
    "ind_a = l.index('a')\n",
    "print(ind_a)\n",
    "ind_b = l.index('b')\n",
    "print(ind_b)\n",
    "ind_x = l.index('x') #----> ValueError\n",
    "print(ind_x)"
   ]
  },
  {
   "cell_type": "code",
   "execution_count": 85,
   "id": "c351bcbe-3ea2-455b-a88e-7c181510d3f8",
   "metadata": {},
   "outputs": [
    {
     "name": "stdout",
     "output_type": "stream",
     "text": [
      "2\n",
      "0\n"
     ]
    }
   ],
   "source": [
    "#10. count\n",
    "l = ['a', 'a', 'b', 'c', 'd']\n",
    "count_a = l.count('a')\n",
    "print(count_a)\n",
    "count_x = l.count('x') #-----> 0\n",
    "print(count_x)"
   ]
  },
  {
   "cell_type": "code",
   "execution_count": 86,
   "id": "d5ae524c-85f9-4ec1-b54e-8a30b7d14faa",
   "metadata": {},
   "outputs": [
    {
     "name": "stdout",
     "output_type": "stream",
     "text": [
      "Original:  [1, 'a', 3]\n",
      "Non copy:  [1, 'a', 3]\n",
      "Copy:  [1, 2, 3]\n"
     ]
    }
   ],
   "source": [
    "#11. copy\n",
    "l = [1,2,3]\n",
    "l_1 = l\n",
    "l_copy = l.copy()\n",
    "l[1] = 'a'\n",
    "print(\"Original: \", l)\n",
    "print(\"Non copy: \", l_1)\n",
    "print(\"Copy: \", l_copy)"
   ]
  },
  {
   "cell_type": "raw",
   "id": "70bcc3cc-b4d0-4c75-9502-409236e9606a",
   "metadata": {},
   "source": [
    "4.1 Sequence Types: Tuple\n",
    "\n",
    "    Immutable: Tuple ()\n",
    "    List is mutable but Tuple is not.\n",
    "    Most of the properties are the same, but only the process which will not change the content of the original sequence could be apply to Tuple.\n"
   ]
  },
  {
   "cell_type": "code",
   "execution_count": 88,
   "id": "58b83ed4-fc84-40c0-883c-fecb3f28e9b1",
   "metadata": {},
   "outputs": [
    {
     "data": {
      "text/plain": [
       "(1, 'a', 2, 'b', True)"
      ]
     },
     "execution_count": 88,
     "metadata": {},
     "output_type": "execute_result"
    }
   ],
   "source": [
    "1,2,3\n",
    "(1,2,3)\n",
    "(1, 'a', 2, 'b', True)"
   ]
  },
  {
   "cell_type": "raw",
   "id": "9d8212e9-300b-4aa6-b8c8-8f0ce10ca882",
   "metadata": {},
   "source": [
    "4.2 Tuple: Getting Elements & Slicing\n",
    "    1. t[x]: \n",
    "        Return the object on position x.\n",
    "        PS: Will raise error when index out of range\n",
    "    2. t[a:b:c]: \n",
    "        Return iterable(a copy) starting from position a, \n",
    "            ending at position b(excluded), and stepping c.\n",
    "        The original iterable will not changed.\n",
    "        PS: Will not raise error when index out of range. Will just return nothing."
   ]
  },
  {
   "cell_type": "code",
   "execution_count": null,
   "id": "7af23945-7152-43fa-a16b-826ee024579b",
   "metadata": {},
   "outputs": [],
   "source": [
    "#1. get elements\n",
    "('a','b','c')[0]\n",
    "('a','b','c')[4]\n",
    "('a','b','c')[-1]\n",
    "('a','b','c')[-2]\n",
    "a, b, c = ('a', 'b', 'c')\n",
    "a, b, c = ('a', 'b', 'c', 'd', 'e')\n",
    "a, b, *c = ('a', 'b', 'c', 'd', 'e')\n",
    "a, *b, c = ('a', 'b', 'c', 'd', 'e')\n",
    "*a, b, c = ('a', 'b', 'c', 'd', 'e')"
   ]
  },
  {
   "cell_type": "code",
   "execution_count": null,
   "id": "47f92f78-2f57-4df5-bfd8-2701559a1af5",
   "metadata": {},
   "outputs": [],
   "source": [
    "#2. slice\n",
    "('a','b','c', 'd', 'e')[1:3:2]\n",
    "('a','b','c', 'd', 'e')[1:3:-1]\n",
    "('a','b','c', 'd', 'e')[:3]\n",
    "('a','b','c', 'd', 'e')[1:]\n",
    "('a','b','c', 'd', 'e')[::-1]\n",
    "('a','b','c', 'd', 'e')[:]"
   ]
  },
  {
   "cell_type": "raw",
   "id": "c98b1ab8-9be1-4eb8-b746-34d141e89c0a",
   "metadata": {},
   "source": [
    "4.3 Tuple: Common Functions\n",
    "    1. enumerate(t)\n",
    "    2. len(t):\n",
    "        Count the number of elements in t.\n",
    "    3. min(t):\n",
    "        Return the minimium value in t.\n",
    "    4. max(t):\n",
    "        Return the maximium value in t.\n",
    "    5. sum(t):\n",
    "        Return the summation of t.\n",
    "    6. zip([t1, t2, t3, ......])\n",
    "    7. sorted(iterable, key, reverse=False):\n",
    "        Return a sorted list.\n",
    "        The original list will not change.\n",
    "        reverse=False ------> smalle to large\n",
    "        reverse=True  ------> large to small\n",
    "        key: the sorting creteria ------> usually use \"lambda\""
   ]
  },
  {
   "cell_type": "code",
   "execution_count": 89,
   "id": "175aa53c-b2f4-4ef2-b06e-8d469b9dae44",
   "metadata": {},
   "outputs": [
    {
     "name": "stdout",
     "output_type": "stream",
     "text": [
      "The element in position 0 is a\n",
      "The element in position 1 is b\n",
      "The element in position 2 is c\n",
      "The element in position 3 is d\n"
     ]
    }
   ],
   "source": [
    "#1. enumerate\n",
    "for position, element in enumerate(('a', 'b', 'c', 'd')):\n",
    "    print(\"The element in position {} is {}\".format(position, element))"
   ]
  },
  {
   "cell_type": "code",
   "execution_count": 90,
   "id": "3dd5e962-63d4-4227-a8f1-319d05277fab",
   "metadata": {},
   "outputs": [
    {
     "data": {
      "text/plain": [
       "3"
      ]
     },
     "execution_count": 90,
     "metadata": {},
     "output_type": "execute_result"
    }
   ],
   "source": [
    "#2. len\n",
    "len((1, 2, 3))"
   ]
  },
  {
   "cell_type": "code",
   "execution_count": 91,
   "id": "27ad2ff8-fdf8-4706-8e37-961a87d8d972",
   "metadata": {},
   "outputs": [
    {
     "data": {
      "text/plain": [
       "1"
      ]
     },
     "execution_count": 91,
     "metadata": {},
     "output_type": "execute_result"
    }
   ],
   "source": [
    "#3. min\n",
    "min((1, 2, 3))"
   ]
  },
  {
   "cell_type": "code",
   "execution_count": 92,
   "id": "a185d382-ebb5-432e-b1e3-23f96b682e82",
   "metadata": {},
   "outputs": [
    {
     "data": {
      "text/plain": [
       "3"
      ]
     },
     "execution_count": 92,
     "metadata": {},
     "output_type": "execute_result"
    }
   ],
   "source": [
    "#4. max\n",
    "max((1, 2, 3))"
   ]
  },
  {
   "cell_type": "code",
   "execution_count": 93,
   "id": "615ce3bf-8ced-49f2-872b-76e1adac0c53",
   "metadata": {},
   "outputs": [
    {
     "data": {
      "text/plain": [
       "6"
      ]
     },
     "execution_count": 93,
     "metadata": {},
     "output_type": "execute_result"
    }
   ],
   "source": [
    "#5. sum\n",
    "sum((1, 2, 3))"
   ]
  },
  {
   "cell_type": "code",
   "execution_count": 94,
   "id": "d6918e06-1eaf-47a4-9d70-1f1c007602eb",
   "metadata": {},
   "outputs": [
    {
     "data": {
      "text/plain": [
       "(('a', 1, 'x'), ('b', 2, 'y'), ('c', 3, 'z'))"
      ]
     },
     "execution_count": 94,
     "metadata": {},
     "output_type": "execute_result"
    }
   ],
   "source": [
    "#6. zip\n",
    "tuple(zip(('a','b','c'), (1,2,3), ('x','y','z')))"
   ]
  },
  {
   "cell_type": "code",
   "execution_count": 95,
   "id": "1879d1e0-7864-4d8f-94d7-4e3484ef48ff",
   "metadata": {},
   "outputs": [],
   "source": [
    "#7. sorted\n",
    "t = (5,4,1,2,3)\n",
    "t_sorted = sorted(t)\n",
    "t_sorted_rev = sorted(t, reverse=True)\n",
    "\n",
    "t1 = (('a', 4), ('c', 2), ('d', 1), ('b', 3))\n",
    "t1_by_char = sorted(t1, key=lambda x:x[0])\n",
    "t1_by_char_rev = sorted(t1, key=lambda x:x[0], reverse=True)\n",
    "t1_by_numb = sorted(t1, key=lambda x:x[1])\n",
    "t1_by_numb_rev = sorted(t1, key=lambda x:x[1], reverse=True)"
   ]
  },
  {
   "cell_type": "raw",
   "id": "410aeaa8-ad35-48ec-8e4b-6c092381cdb6",
   "metadata": {},
   "source": [
    "4.4 Tuple: Common Methods\n",
    "Type help(tuple.*) in terminal to see the details of each method\n",
    "    1. t.index(x, [start, stop]):\n",
    "        Return the position of the first element x.\n",
    "        Raises \"ValueError\" if x is not found.\n",
    "\n",
    "    2. t.count(x):\n",
    "        Count the occurance of element x in tuple."
   ]
  },
  {
   "cell_type": "code",
   "execution_count": 96,
   "id": "3a401b4c-c91e-49e1-bd92-f109e3e6eb24",
   "metadata": {},
   "outputs": [
    {
     "ename": "ValueError",
     "evalue": "tuple.index(x): x not in tuple",
     "output_type": "error",
     "traceback": [
      "\u001b[1;31m---------------------------------------------------------------------------\u001b[0m",
      "\u001b[1;31mValueError\u001b[0m                                Traceback (most recent call last)",
      "Cell \u001b[1;32mIn[96], line 5\u001b[0m\n\u001b[0;32m      3\u001b[0m ind_a \u001b[38;5;241m=\u001b[39m t\u001b[38;5;241m.\u001b[39mindex(\u001b[38;5;124m'\u001b[39m\u001b[38;5;124ma\u001b[39m\u001b[38;5;124m'\u001b[39m)\n\u001b[0;32m      4\u001b[0m ind_b \u001b[38;5;241m=\u001b[39m t\u001b[38;5;241m.\u001b[39mindex(\u001b[38;5;124m'\u001b[39m\u001b[38;5;124mb\u001b[39m\u001b[38;5;124m'\u001b[39m)\n\u001b[1;32m----> 5\u001b[0m ind_x \u001b[38;5;241m=\u001b[39m t\u001b[38;5;241m.\u001b[39mindex(\u001b[38;5;124m'\u001b[39m\u001b[38;5;124mx\u001b[39m\u001b[38;5;124m'\u001b[39m)\n",
      "\u001b[1;31mValueError\u001b[0m: tuple.index(x): x not in tuple"
     ]
    }
   ],
   "source": [
    "#1. index\n",
    "t = ('a', 'b', 'b''c','d')\n",
    "ind_a = t.index('a')\n",
    "ind_b = t.index('b')\n",
    "ind_x = t.index('x') #----> ValueError"
   ]
  },
  {
   "cell_type": "code",
   "execution_count": 97,
   "id": "7a79fe69-7151-419b-88d9-e4a07ee65b15",
   "metadata": {},
   "outputs": [],
   "source": [
    "#2. count\n",
    "t = ('a', 'a', 'b', 'c', 'd')\n",
    "count_a = t.count('a')\n",
    "count_x = t.count('x') #-----> 0"
   ]
  },
  {
   "cell_type": "raw",
   "id": "adb54e08-c227-485b-8a81-405c3e7c1bb2",
   "metadata": {},
   "source": [
    "5.1 Mapping Type: Dictionaty(dict)\n",
    "    mutable, no order\n",
    "    combinations of several key-value pairs.\n",
    "    {key: value,\n",
    "     key: value,\n",
    "     key: value,\n",
    "     ...........}\n",
    "    \n",
    "    key can be any \"immutable\" type (int, float, tuple, string, boolean)\n",
    "    key must be unique\n",
    "    \n",
    "    value can be any type"
   ]
  },
  {
   "cell_type": "code",
   "execution_count": 99,
   "id": "a1d32375-2386-48ba-9f69-dca8b4b0402f",
   "metadata": {},
   "outputs": [],
   "source": [
    "a = {'three': 3, 'one': 1, 'two': 2}\n",
    "b = dict({'three': 3, 'one': 1, 'two': 2})\n",
    "c = dict(one=1, two=2, three=3)\n",
    "d = dict({'one': 1, 'three': 3}, two=2)\n",
    "e = dict([('two', 2), ('one', 1), ('three', 3)])\n",
    "f = dict(zip(['one', 'two', 'three'], [1, 2, 3]))"
   ]
  },
  {
   "cell_type": "raw",
   "id": "ad576d4c-4510-4dab-8399-adbbea1e6eff",
   "metadata": {},
   "source": [
    "5.2 Dictionary: Getting and Setting items\n",
    "    1. dic[key]:\n",
    "        Return the value of that key.\n",
    "        Raise \"KeyError\" if key doesn't exist.\n",
    "    2. dic[key] = value:\n",
    "        Set key:value to dic.\n",
    "        If key exists, change the value."
   ]
  },
  {
   "cell_type": "code",
   "execution_count": 100,
   "id": "4a7014ad-5f90-405f-bea1-c8a9fca940f1",
   "metadata": {},
   "outputs": [
    {
     "ename": "KeyError",
     "evalue": "'four'",
     "output_type": "error",
     "traceback": [
      "\u001b[1;31m---------------------------------------------------------------------------\u001b[0m",
      "\u001b[1;31mKeyError\u001b[0m                                  Traceback (most recent call last)",
      "Cell \u001b[1;32mIn[100], line 3\u001b[0m\n\u001b[0;32m      1\u001b[0m a \u001b[38;5;241m=\u001b[39m {\u001b[38;5;124m'\u001b[39m\u001b[38;5;124mthree\u001b[39m\u001b[38;5;124m'\u001b[39m: \u001b[38;5;241m3\u001b[39m, \u001b[38;5;124m'\u001b[39m\u001b[38;5;124mone\u001b[39m\u001b[38;5;124m'\u001b[39m: \u001b[38;5;241m1\u001b[39m, \u001b[38;5;124m'\u001b[39m\u001b[38;5;124mtwo\u001b[39m\u001b[38;5;124m'\u001b[39m: \u001b[38;5;241m2\u001b[39m}\n\u001b[0;32m      2\u001b[0m a[\u001b[38;5;124m'\u001b[39m\u001b[38;5;124mthree\u001b[39m\u001b[38;5;124m'\u001b[39m]\n\u001b[1;32m----> 3\u001b[0m a[\u001b[38;5;124m'\u001b[39m\u001b[38;5;124mfour\u001b[39m\u001b[38;5;124m'\u001b[39m]\n\u001b[0;32m      4\u001b[0m a[\u001b[38;5;124m'\u001b[39m\u001b[38;5;124mfour\u001b[39m\u001b[38;5;124m'\u001b[39m] \u001b[38;5;241m=\u001b[39m \u001b[38;5;241m4\u001b[39m\n\u001b[0;32m      5\u001b[0m a[\u001b[38;5;124m'\u001b[39m\u001b[38;5;124mthree\u001b[39m\u001b[38;5;124m'\u001b[39m] \u001b[38;5;241m=\u001b[39m \u001b[38;5;241m6\u001b[39m\n",
      "\u001b[1;31mKeyError\u001b[0m: 'four'"
     ]
    }
   ],
   "source": [
    "a = {'three': 3, 'one': 1, 'two': 2}\n",
    "a['three']\n",
    "a['four'] #---> keyerror\n",
    "a['four'] = 4\n",
    "a['three'] = 6"
   ]
  },
  {
   "cell_type": "raw",
   "id": "3c859222-3a34-4d44-93e4-a89f7c124c78",
   "metadata": {},
   "source": [
    "5.3 Dictionary: Common Function\n",
    "    1. len(dic):\n",
    "        Number of items in dic"
   ]
  },
  {
   "cell_type": "code",
   "execution_count": 102,
   "id": "e92952a9-3d2a-4178-a1c7-38ed9a4c25f5",
   "metadata": {},
   "outputs": [
    {
     "data": {
      "text/plain": [
       "3"
      ]
     },
     "execution_count": 102,
     "metadata": {},
     "output_type": "execute_result"
    }
   ],
   "source": [
    "a = {'three': 3, 'one': 1, 'two': 2}\n",
    "len(a)"
   ]
  },
  {
   "cell_type": "raw",
   "id": "00794679-bee8-4053-8e95-22f13ea39ce3",
   "metadata": {},
   "source": [
    "5.4 Dictionary: Common methods\n",
    "    1. dic.clear():\n",
    "        Clear all items in the dic.\n",
    "\n",
    "    2. dic.copy()\n",
    "\n",
    "    3. dic.get(key[, x]):\n",
    "        Return the value of the key.\n",
    "        If key doesn't exist, return x.\n",
    "\n",
    "    4. dic.keys():\n",
    "        return only the keys.\n",
    "\n",
    "    5. dic.values():\n",
    "        Return only the values.\n",
    "\n",
    "    6. dic.items():\n",
    "        Return all the items, i.e. key:value, in the dic.\n",
    "\n",
    "    7. dic_1.update(dic_2):\n",
    "        Update dic_1 with dic_2.\n",
    "        If key is overlaped, use the value in dic_2.\n",
    "\n",
    "    8. dic.fromkeys(lis, val):\n",
    "        Construct a new dic using the lis as keys, and initiate all value with val.\n",
    "\n",
    "    9. dic.setdefault(key, value):\n",
    "        If key is in dic, return the value of that key from the dic, and don't change the dic.\n",
    "        If key is not in dic, set a new key:value pair to the dic.\n",
    "\n",
    "    10. dic.pop(key):\n",
    "        Return the value of the key, and remove the key:value from the dic.\n",
    "        Raise \"keyError\" if key doesn't exist in dic.\n",
    "\n",
    "    11. dic.popitem():\n",
    "        Return and remove one key:value randomly from the dic.\n",
    "        Raise \"keyError\" if key doesn't exist in dic."
   ]
  },
  {
   "cell_type": "code",
   "execution_count": 104,
   "id": "60408a82-5502-46f5-81b9-1bebfa144ca5",
   "metadata": {},
   "outputs": [
    {
     "name": "stdout",
     "output_type": "stream",
     "text": [
      "{}\n"
     ]
    }
   ],
   "source": [
    "#1. clear\n",
    "a = {'three': 3, 'one': 1, 'two': 2}\n",
    "a.clear()\n",
    "print(a)"
   ]
  },
  {
   "cell_type": "code",
   "execution_count": 105,
   "id": "4d22e6b5-75a4-420b-be0e-b4825c029c38",
   "metadata": {},
   "outputs": [
    {
     "name": "stdout",
     "output_type": "stream",
     "text": [
      "{'three': 3, 'one': 1, 'two': 2}\n",
      "{'three': 4, 'one': 1, 'two': 2}\n",
      "{'three': 3, 'one': 1, 'two': 2}\n"
     ]
    }
   ],
   "source": [
    "#2. copy\n",
    "a = {'three': 3, 'one': 1, 'two': 2}\n",
    "b = a.copy()\n",
    "print(b)\n",
    "a['three'] = 4\n",
    "print(a)\n",
    "print(b)"
   ]
  },
  {
   "cell_type": "code",
   "execution_count": 107,
   "id": "f6cdc53e-0f88-46f1-a164-893515bca085",
   "metadata": {},
   "outputs": [
    {
     "name": "stdout",
     "output_type": "stream",
     "text": [
      "3\n",
      "None\n"
     ]
    }
   ],
   "source": [
    "#3. get\n",
    "a = {'three': 3, 'one': 1, 'two': 2}\n",
    "print(a.get('three'))\n",
    "print(a.get('four'))"
   ]
  },
  {
   "cell_type": "code",
   "execution_count": 108,
   "id": "57b00faa-75ff-47c9-b0c5-18b77e19bf83",
   "metadata": {},
   "outputs": [
    {
     "data": {
      "text/plain": [
       "dict_keys(['three', 'one', 'two'])"
      ]
     },
     "execution_count": 108,
     "metadata": {},
     "output_type": "execute_result"
    }
   ],
   "source": [
    "#4. keys\n",
    "a = {'three': 3, 'one': 1, 'two': 2}\n",
    "a.keys()"
   ]
  },
  {
   "cell_type": "code",
   "execution_count": 109,
   "id": "adc68853-83c7-4cff-8b0b-b14d9a66f720",
   "metadata": {},
   "outputs": [
    {
     "data": {
      "text/plain": [
       "dict_values([3, 1, 2])"
      ]
     },
     "execution_count": 109,
     "metadata": {},
     "output_type": "execute_result"
    }
   ],
   "source": [
    "#5. values\n",
    "a = {'three': 3, 'one': 1, 'two': 2}\n",
    "a.values()"
   ]
  },
  {
   "cell_type": "code",
   "execution_count": 110,
   "id": "e383d71f-be11-48f3-ba83-c37ad38fc8a6",
   "metadata": {},
   "outputs": [
    {
     "data": {
      "text/plain": [
       "dict_items([('three', 3), ('one', 1), ('two', 2)])"
      ]
     },
     "execution_count": 110,
     "metadata": {},
     "output_type": "execute_result"
    }
   ],
   "source": [
    "#6. items\n",
    "a = {'three': 3, 'one': 1, 'two': 2}\n",
    "a.items()"
   ]
  },
  {
   "cell_type": "code",
   "execution_count": 114,
   "id": "de238b51-927f-420c-a049-98582431f216",
   "metadata": {},
   "outputs": [
    {
     "name": "stdout",
     "output_type": "stream",
     "text": [
      "{'three': 3, 'one': -1, 'two': 2, 'four': 4, 'five': 5}\n"
     ]
    }
   ],
   "source": [
    "#7. update\n",
    "a = {'three': 3, 'one': 1, 'two': 2}\n",
    "a.update({'four': 4, 'five': 5, 'one':-1})\n",
    "print(a)"
   ]
  },
  {
   "cell_type": "code",
   "execution_count": 113,
   "id": "0dd3b67d-28d6-424a-a4a3-ab0452686a46",
   "metadata": {},
   "outputs": [
    {
     "name": "stdout",
     "output_type": "stream",
     "text": [
      "{'a': 6, 'b': 6, 'c': 6, 'd': 6}\n"
     ]
    }
   ],
   "source": [
    "#8. fromkeys\n",
    "a = {}.fromkeys(['a', 'b', 'c', 'd'], 6)\n",
    "print(a)"
   ]
  },
  {
   "cell_type": "code",
   "execution_count": 115,
   "id": "368c7632-4367-4c7b-9525-86bf8ed4e4f0",
   "metadata": {},
   "outputs": [
    {
     "name": "stdout",
     "output_type": "stream",
     "text": [
      "{'three': 3, 'one': 1, 'two': 2, 'four': 4}\n"
     ]
    }
   ],
   "source": [
    "#9. setdefault\n",
    "a = {'three': 3, 'one': 1, 'two': 2}\n",
    "a.setdefault('four', 4)\n",
    "a.setdefault('one', -1)\n",
    "print(a)"
   ]
  },
  {
   "cell_type": "code",
   "execution_count": 117,
   "id": "e0aa6e43-5a02-40d6-997c-e0918c2ee465",
   "metadata": {},
   "outputs": [
    {
     "name": "stdout",
     "output_type": "stream",
     "text": [
      "{'three': 3, 'two': 2}\n"
     ]
    },
    {
     "ename": "KeyError",
     "evalue": "'four'",
     "output_type": "error",
     "traceback": [
      "\u001b[1;31m---------------------------------------------------------------------------\u001b[0m",
      "\u001b[1;31mKeyError\u001b[0m                                  Traceback (most recent call last)",
      "Cell \u001b[1;32mIn[117], line 5\u001b[0m\n\u001b[0;32m      3\u001b[0m a\u001b[38;5;241m.\u001b[39mpop(\u001b[38;5;124m'\u001b[39m\u001b[38;5;124mone\u001b[39m\u001b[38;5;124m'\u001b[39m)\n\u001b[0;32m      4\u001b[0m \u001b[38;5;28mprint\u001b[39m(a)\n\u001b[1;32m----> 5\u001b[0m a\u001b[38;5;241m.\u001b[39mpop(\u001b[38;5;124m'\u001b[39m\u001b[38;5;124mfour\u001b[39m\u001b[38;5;124m'\u001b[39m)\n",
      "\u001b[1;31mKeyError\u001b[0m: 'four'"
     ]
    }
   ],
   "source": [
    "#10. pop\n",
    "a = {'three': 3, 'one': 1, 'two': 2}\n",
    "a.pop('one')\n",
    "print(a)\n",
    "a.pop('four') #----> keyerror"
   ]
  },
  {
   "cell_type": "code",
   "execution_count": 118,
   "id": "6d92854c-2339-454a-9c95-ddd7af0ab4c0",
   "metadata": {},
   "outputs": [
    {
     "name": "stdout",
     "output_type": "stream",
     "text": [
      "{'three': 3, 'one': 1}\n"
     ]
    }
   ],
   "source": [
    "#11. popitems\n",
    "a = {'three': 3, 'one': 1, 'two': 2}\n",
    "a.popitem()\n",
    "print(a)"
   ]
  },
  {
   "cell_type": "raw",
   "id": "649de93d-3f12-4bd3-93e3-8fe6e8c54d53",
   "metadata": {},
   "source": [
    "6.1 Set Type: Set\n",
    "    {}\n",
    "    Every item in set is unique.\n",
    "    Dictionary without values.\n",
    "    items could be immutable type: int, float, string, tuple"
   ]
  },
  {
   "cell_type": "code",
   "execution_count": 119,
   "id": "ff4e551f-5ccf-4306-9518-44b0d3345e41",
   "metadata": {},
   "outputs": [
    {
     "data": {
      "text/plain": [
       "{1, 2, 3}"
      ]
     },
     "execution_count": 119,
     "metadata": {},
     "output_type": "execute_result"
    }
   ],
   "source": [
    "{1,2,3}"
   ]
  },
  {
   "cell_type": "raw",
   "id": "4db3b75a-11ff-4b5f-b084-daca65c31ac6",
   "metadata": {},
   "source": [
    "6.2 Set: Operation\"\"\r\n",
    "    1. Intersection:\r\n",
    "        &\r\n",
    "    2. Union:\r\n",
    "        |\r\n",
    "    3. Difference:\r\n",
    "        -\r\n",
    "    4. Symmetric Difference:\r\n",
    "        ^\r\n",
    "    5. ==\r\n",
    "    6. !=\r\n",
    "       7. in \r",
    " not in\r\n",
    "\"\"\""
   ]
  },
  {
   "cell_type": "raw",
   "id": "5f6e3efa-218f-4917-9c1e-3c25e17ab177",
   "metadata": {},
   "source": [
    "6.3 Set: Common Functions\n",
    "    1. len(s):\n",
    "        Returns an int type specifying number of elements in s."
   ]
  },
  {
   "cell_type": "code",
   "execution_count": 120,
   "id": "739506f9-440f-47e1-a91f-6102fa232cec",
   "metadata": {},
   "outputs": [
    {
     "data": {
      "text/plain": [
       "5"
      ]
     },
     "execution_count": 120,
     "metadata": {},
     "output_type": "execute_result"
    }
   ],
   "source": [
    "a = {1,2,3,4,5}\n",
    "len(a)"
   ]
  },
  {
   "cell_type": "raw",
   "id": "e9305b7b-b3f6-477f-9ddc-04109b115be8",
   "metadata": {},
   "source": [
    "6.4 Set: Common Methods\n",
    "    1. s.add(x)\n",
    "\n",
    "    2. s.clear()\n",
    "\n",
    "    3. s.copy()\n",
    "\n",
    "    4. s1.isdisjoint(s2):\n",
    "        If s1 and s2 have intersection, return False.\n",
    "\n",
    "    5. s1.issubset(s2):\n",
    "        If s1 is subset of s2, return True.\n",
    "\n",
    "    6. s1.issupperset(s2):\n",
    "        If s1 is supperset of s2, return True.\n",
    "\n",
    "    7. s.pop():\n",
    "        Randomly remove and return one item in s.\n",
    "\n",
    "    8. s.remove(x):\n",
    "        Delete x from s.\n",
    "        If x not exist, raise \"KeyError\".\n",
    "\n",
    "    9. s.discard(x):\n",
    "        delete x from s.\n",
    "        If x not in s, do nothing no error.\n",
    "\n",
    "    10. s1.difference_update(s2):\n",
    "        Update s1 with the s1-s2.\n",
    "\n",
    "    11. s1.intersection_update(s2):\n",
    "        Update s1 with the intersection of s1 and s2.\n",
    "\n",
    "    12. s1.symmetric_differende_update(s2):\n",
    "        Update s1 with the symmetric difference of s1 and s2.\n",
    "\n",
    "    13. s1.update(s2):\n",
    "        Update s1 with the union of s1 and s2."
   ]
  },
  {
   "cell_type": "code",
   "execution_count": 121,
   "id": "4d19a07f-a389-4a04-8648-4f7588663749",
   "metadata": {},
   "outputs": [
    {
     "data": {
      "text/plain": [
       "{1, 2, 3, 4, 'a'}"
      ]
     },
     "execution_count": 121,
     "metadata": {},
     "output_type": "execute_result"
    }
   ],
   "source": [
    "#1. add\n",
    "s = {1, 2, 3, 4}\n",
    "s.add('a')\n",
    "s"
   ]
  },
  {
   "cell_type": "code",
   "execution_count": 122,
   "id": "ccb35431-c154-4a5c-b8c7-f2e5d2dac7e2",
   "metadata": {},
   "outputs": [
    {
     "data": {
      "text/plain": [
       "set()"
      ]
     },
     "execution_count": 122,
     "metadata": {},
     "output_type": "execute_result"
    }
   ],
   "source": [
    "#2. clear\n",
    "s = {1, 2, 3, 4}\n",
    "s.clear()\n",
    "s"
   ]
  },
  {
   "cell_type": "code",
   "execution_count": 124,
   "id": "c8233c33-2bbc-47e4-858b-c3d8e2797dbc",
   "metadata": {},
   "outputs": [
    {
     "name": "stdout",
     "output_type": "stream",
     "text": [
      "{1, 2, 3, 4}\n",
      "{1, 2, 3, 4, 5}\n"
     ]
    }
   ],
   "source": [
    "#3. copy\n",
    "s = {1, 2, 3, 4}\n",
    "s_copy = s.copy()\n",
    "s.add(5)\n",
    "print(s_copy)\n",
    "print(s)"
   ]
  },
  {
   "cell_type": "code",
   "execution_count": 125,
   "id": "0816bcbe-d71b-4d97-9dc4-84832fc389fb",
   "metadata": {},
   "outputs": [
    {
     "data": {
      "text/plain": [
       "True"
      ]
     },
     "execution_count": 125,
     "metadata": {},
     "output_type": "execute_result"
    }
   ],
   "source": [
    "#4. isdisjoint\n",
    "s1 = {1,2,3}\n",
    "s2 = {2,3,4}\n",
    "s3 = {4,5,6}\n",
    "s1.isdisjoint(s2)\n",
    "s1.isdisjoint(s3)"
   ]
  },
  {
   "cell_type": "code",
   "execution_count": 126,
   "id": "e29e3902-430d-41ba-9919-a85ba49c0155",
   "metadata": {},
   "outputs": [
    {
     "data": {
      "text/plain": [
       "False"
      ]
     },
     "execution_count": 126,
     "metadata": {},
     "output_type": "execute_result"
    }
   ],
   "source": [
    "#5. issubset\n",
    "s1 = {2,3}\n",
    "s2 = {1,2,3}\n",
    "s3 = {2}\n",
    "s1.issubset(s2)\n",
    "s1.issubset(s3)"
   ]
  },
  {
   "cell_type": "code",
   "execution_count": 127,
   "id": "070711e7-1bbe-439d-b3ac-28215085825e",
   "metadata": {},
   "outputs": [
    {
     "data": {
      "text/plain": [
       "True"
      ]
     },
     "execution_count": 127,
     "metadata": {},
     "output_type": "execute_result"
    }
   ],
   "source": [
    "#6. issupperset\n",
    "s1 = {2,3}\n",
    "s2 = {1,2,3}\n",
    "s3 = {2}\n",
    "s1.issuperset(s2)\n",
    "s1.issuperset(s3)\n"
   ]
  },
  {
   "cell_type": "code",
   "execution_count": 128,
   "id": "b98cc8ec-c309-40a5-9ec1-f385f9e73043",
   "metadata": {},
   "outputs": [
    {
     "data": {
      "text/plain": [
       "{2, 3, 4}"
      ]
     },
     "execution_count": 128,
     "metadata": {},
     "output_type": "execute_result"
    }
   ],
   "source": [
    "#7. pop\n",
    "s = {1, 2, 3, 4}\n",
    "s.pop()\n",
    "s"
   ]
  },
  {
   "cell_type": "code",
   "execution_count": 129,
   "id": "015c2954-a0ca-4c0e-82f0-58160299b543",
   "metadata": {},
   "outputs": [
    {
     "name": "stdout",
     "output_type": "stream",
     "text": [
      "{2, 3, 4}\n"
     ]
    },
    {
     "ename": "KeyError",
     "evalue": "5",
     "output_type": "error",
     "traceback": [
      "\u001b[1;31m---------------------------------------------------------------------------\u001b[0m",
      "\u001b[1;31mKeyError\u001b[0m                                  Traceback (most recent call last)",
      "Cell \u001b[1;32mIn[129], line 5\u001b[0m\n\u001b[0;32m      3\u001b[0m s\u001b[38;5;241m.\u001b[39mremove(\u001b[38;5;241m1\u001b[39m)\n\u001b[0;32m      4\u001b[0m \u001b[38;5;28mprint\u001b[39m(s)\n\u001b[1;32m----> 5\u001b[0m s\u001b[38;5;241m.\u001b[39mremove(\u001b[38;5;241m5\u001b[39m) \u001b[38;5;66;03m#----> error\u001b[39;00m\n\u001b[0;32m      6\u001b[0m \u001b[38;5;28mprint\u001b[39m(s)\n",
      "\u001b[1;31mKeyError\u001b[0m: 5"
     ]
    }
   ],
   "source": [
    "#8. remove\n",
    "s = {1, 2, 3, 4}\n",
    "s.remove(1)\n",
    "print(s)\n",
    "s.remove(5) #----> error\n",
    "print(s)"
   ]
  },
  {
   "cell_type": "code",
   "execution_count": 132,
   "id": "04bbdfe0-a5f8-47d8-8f88-74ff7b3e58cd",
   "metadata": {},
   "outputs": [
    {
     "name": "stdout",
     "output_type": "stream",
     "text": [
      "{2, 3, 4}\n",
      "{1, 2, 3, 4}\n"
     ]
    }
   ],
   "source": [
    "#9. discard\n",
    "s = {1, 2, 3, 4}\n",
    "s.discard(1)\n",
    "print(s)\n",
    "\n",
    "s = {1, 2, 3, 4}\n",
    "s.discard(5) #----> nothing\n",
    "print(s)"
   ]
  },
  {
   "cell_type": "code",
   "execution_count": 134,
   "id": "6a8dbe8b-778e-4fac-8024-ae352bd1b09b",
   "metadata": {},
   "outputs": [
    {
     "data": {
      "text/plain": [
       "{3}"
      ]
     },
     "execution_count": 134,
     "metadata": {},
     "output_type": "execute_result"
    }
   ],
   "source": [
    "#10. difference_update\n",
    "s1 = {1,2,3}\n",
    "s2 = {1,2}\n",
    "s1.difference_update(s2)\n",
    "s1"
   ]
  },
  {
   "cell_type": "code",
   "execution_count": 135,
   "id": "374f314f-0be6-4e3c-aa05-2816f447fa1e",
   "metadata": {},
   "outputs": [
    {
     "data": {
      "text/plain": [
       "{1, 2}"
      ]
     },
     "execution_count": 135,
     "metadata": {},
     "output_type": "execute_result"
    }
   ],
   "source": [
    "#11. intersection_update\n",
    "s1 = {1,2,3}\n",
    "s2 = {1,2}\n",
    "s1.intersection_update(s2)\n",
    "s1"
   ]
  },
  {
   "cell_type": "code",
   "execution_count": 136,
   "id": "944e4a49-8ad4-4b9b-a802-807c2155712b",
   "metadata": {},
   "outputs": [
    {
     "data": {
      "text/plain": [
       "{3, 4, 5}"
      ]
     },
     "execution_count": 136,
     "metadata": {},
     "output_type": "execute_result"
    }
   ],
   "source": [
    "#12. symmetric_differende_update\n",
    "s1 = {1,2,3}\n",
    "s2 = {1,2,4,5}\n",
    "s1.symmetric_difference_update(s2)\n",
    "s1"
   ]
  },
  {
   "cell_type": "code",
   "execution_count": 137,
   "id": "f5c1620c-a2bd-4a04-a218-bde2754f6a4b",
   "metadata": {},
   "outputs": [
    {
     "data": {
      "text/plain": [
       "{1, 2, 3, 4, 5}"
      ]
     },
     "execution_count": 137,
     "metadata": {},
     "output_type": "execute_result"
    }
   ],
   "source": [
    "#13. update\n",
    "s1 = {1,2,3}\n",
    "s2 = {1,2,4,5}\n",
    "s1.update(s2)\n",
    "s1"
   ]
  },
  {
   "cell_type": "raw",
   "id": "98f43318-b768-4087-8d56-32361168e574",
   "metadata": {},
   "source": [
    "7.1 Boolean(True / False)\n",
    "    Two Types: True, False\n",
    "    In most case, it is used to control process.\n",
    "\n"
   ]
  },
  {
   "cell_type": "code",
   "execution_count": 138,
   "id": "3c777f3c-9617-4656-8f23-c1b12854e72b",
   "metadata": {},
   "outputs": [
    {
     "data": {
      "text/plain": [
       "0.0"
      ]
     },
     "execution_count": 138,
     "metadata": {},
     "output_type": "execute_result"
    }
   ],
   "source": [
    "int(True) #----> 1\n",
    "int(False) #----> 0\n",
    "float(True) #----> 1.0\n",
    "float(False) #----> 0.0"
   ]
  },
  {
   "cell_type": "raw",
   "id": "0f873123-3f63-49ee-80e9-cb7f0cf0c5a5",
   "metadata": {},
   "source": [
    "7.2 Default False type:\n",
    "    0\n",
    "    0.0\n",
    "    ''\n",
    "    []\n",
    "    ()\n",
    "    {}: empty dictionary\n",
    "    {}: empty set"
   ]
  },
  {
   "cell_type": "raw",
   "id": "a912a4d2-d306-43a6-aa03-ad8bb129f738",
   "metadata": {},
   "source": [
    "7.2 Boolean Operator\n",
    "    x or y (x | y)\n",
    "    x and y (x & y)\n",
    "    not x"
   ]
  },
  {
   "cell_type": "raw",
   "id": "4be8f6db-77a8-4761-b8e2-9adac9621691",
   "metadata": {},
   "source": [
    "8.1 Type Transformation: int() & float(), str(), list(), tuple(), dict(), set()"
   ]
  },
  {
   "cell_type": "code",
   "execution_count": 139,
   "id": "3f8f5272-3be3-49b9-af1a-781b4180d62d",
   "metadata": {},
   "outputs": [
    {
     "data": {
      "text/plain": [
       "1.5"
      ]
     },
     "execution_count": 139,
     "metadata": {},
     "output_type": "execute_result"
    }
   ],
   "source": [
    "\"\"\"\n",
    "int v.s. float\n",
    "\"\"\"\n",
    "int(1.5)\n",
    "int(1.0)\n",
    "float(1)\n",
    "float(1.5)"
   ]
  },
  {
   "cell_type": "code",
   "execution_count": 140,
   "id": "e719a620-f80e-4984-940e-cec8f7e2b40f",
   "metadata": {},
   "outputs": [
    {
     "ename": "ValueError",
     "evalue": "invalid literal for int() with base 10: 'apple'",
     "output_type": "error",
     "traceback": [
      "\u001b[1;31m---------------------------------------------------------------------------\u001b[0m",
      "\u001b[1;31mValueError\u001b[0m                                Traceback (most recent call last)",
      "Cell \u001b[1;32mIn[140], line 4\u001b[0m\n\u001b[0;32m      1\u001b[0m \u001b[38;5;124;03m\"\"\"\u001b[39;00m\n\u001b[0;32m      2\u001b[0m \u001b[38;5;124;03mint & float v.s. str\u001b[39;00m\n\u001b[0;32m      3\u001b[0m \u001b[38;5;124;03m\"\"\"\u001b[39;00m\n\u001b[1;32m----> 4\u001b[0m \u001b[38;5;28mint\u001b[39m(\u001b[38;5;124m'\u001b[39m\u001b[38;5;124mapple\u001b[39m\u001b[38;5;124m'\u001b[39m) \u001b[38;5;66;03m#----> error\u001b[39;00m\n\u001b[0;32m      5\u001b[0m \u001b[38;5;28mfloat\u001b[39m(\u001b[38;5;124m'\u001b[39m\u001b[38;5;124mapple\u001b[39m\u001b[38;5;124m'\u001b[39m) \u001b[38;5;66;03m#----> error\u001b[39;00m\n\u001b[0;32m      6\u001b[0m \u001b[38;5;28mint\u001b[39m(\u001b[38;5;124m'\u001b[39m\u001b[38;5;124m1\u001b[39m\u001b[38;5;124m'\u001b[39m)\n",
      "\u001b[1;31mValueError\u001b[0m: invalid literal for int() with base 10: 'apple'"
     ]
    }
   ],
   "source": [
    "\"\"\"\n",
    "int & float v.s. str\n",
    "\"\"\"\n",
    "int('apple') #----> error\n",
    "float('apple') #----> error\n",
    "int('1')\n",
    "float('1')\n",
    "int('1.5') #----> error\n",
    "float('1.5')"
   ]
  },
  {
   "cell_type": "code",
   "execution_count": 141,
   "id": "7f3d2164-afb1-49b1-a1b2-b5fb8a49d637",
   "metadata": {},
   "outputs": [
    {
     "data": {
      "text/plain": [
       "\"['a', 'b', 'c']\""
      ]
     },
     "execution_count": 141,
     "metadata": {},
     "output_type": "execute_result"
    }
   ],
   "source": [
    "\"\"\"\n",
    "str v.s. list\n",
    "\"\"\"\n",
    "list('apple')\n",
    "str(['a','b','c'])"
   ]
  },
  {
   "cell_type": "code",
   "execution_count": 142,
   "id": "1c8139da-1992-4f42-910d-d9452df362a3",
   "metadata": {},
   "outputs": [
    {
     "data": {
      "text/plain": [
       "{1, 2, 3, 4, 5}"
      ]
     },
     "execution_count": 142,
     "metadata": {},
     "output_type": "execute_result"
    }
   ],
   "source": [
    "\"\"\"\n",
    "list v.s. set\n",
    "\"\"\"\n",
    "set([1,1,2,2,3,3,4,4,5])"
   ]
  },
  {
   "cell_type": "raw",
   "id": "8908b15c-ecc3-4797-8990-8bd2daa8149b",
   "metadata": {},
   "source": [
    "Appendix A: Statistic pachage\n",
    "    The document link:\n",
    "    https://docs.python.org/3/library/statistics.html"
   ]
  },
  {
   "cell_type": "code",
   "execution_count": 144,
   "id": "b6a8b9af-a620-4f49-802b-6743cb5906bb",
   "metadata": {},
   "outputs": [],
   "source": [
    "import statistics\n",
    "lis = [1,2,2,2,3,4,5,5,6,7,8,9,10]\n",
    "ari_mean = statistics.mean(lis)\n",
    "geo_mean = statistics.geometric_mean(lis)\n",
    "har_mean = statistics.harmonic_mean(lis)\n",
    "median = statistics.median(lis)\n",
    "mode = statistics.mode(lis)\n",
    "quantile_each = statistics.quantiles(lis)\n",
    "stdev_pop = statistics.pstdev(lis)\n",
    "stdev_sam = statistics.stdev(lis)\n",
    "var_pop = statistics.pvariance(lis)\n",
    "var_sam = statistics.variance(lis)\n",
    "\n",
    "x = [1,2,3,4,5,6]\n",
    "y = [-1,10,5,6,2,-9]\n",
    "cov_xy = statistics.covariance(x,y)\n",
    "corr_xy = statistics.correlation(x,y)\n",
    "slope, intercept = statistics.linear_regression(x,y)"
   ]
  },
  {
   "cell_type": "code",
   "execution_count": null,
   "id": "58a3ea14-5e7c-4c48-99de-1df018598220",
   "metadata": {},
   "outputs": [],
   "source": []
  }
 ],
 "metadata": {
  "kernelspec": {
   "display_name": "Python 3 (ipykernel)",
   "language": "python",
   "name": "python3"
  },
  "language_info": {
   "codemirror_mode": {
    "name": "ipython",
    "version": 3
   },
   "file_extension": ".py",
   "mimetype": "text/x-python",
   "name": "python",
   "nbconvert_exporter": "python",
   "pygments_lexer": "ipython3",
   "version": "3.11.8"
  }
 },
 "nbformat": 4,
 "nbformat_minor": 5
}

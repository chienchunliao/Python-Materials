{
 "cells": [
  {
   "cell_type": "code",
   "execution_count": 1,
   "id": "d87ebaa0-2807-496a-ad5d-02bd52fd4a39",
   "metadata": {},
   "outputs": [],
   "source": [
    "import pandas as pd, numpy as np"
   ]
  },
  {
   "cell_type": "raw",
   "id": "a6a71fd1-e66a-4546-bd23-9cf39981b776",
   "metadata": {},
   "source": [
    "Pandas: Series\n",
    "    One-dimensional array-like object containing a sequence of values (can be any types)\n",
    "        and an associated array of data labels, called its index.\n",
    "\n",
    "    Construction:\n",
    "        pd.Series(data=None, \n",
    "                  index=None, \n",
    "                  dtype=None, \n",
    "                  name=None, \n",
    "                  copy=False, \n",
    "                  fastpath=False)\n",
    "        \n",
    "            data: array-like, Iterable, dict, or scalar value\n",
    "                Contains data stored in Series. \n",
    "                If data is a dict: key will become index, and value will become value.\n",
    "    \n",
    "            index: array-like or Index (1d)\n",
    "                Values must have the same length as data. \n",
    "                Non-unique index values are allowed. \n",
    "                Will default to RangeIndex (0, 1, 2, …, n) if not provided. \n",
    "                If the index is not None, the resulting Series is reindexed with the index values.\n",
    "    \n",
    "            dtype: str, numpy.dtype, or ExtensionDtype, optional\n",
    "                Data type for the output Series. \n",
    "                If not specified, this will be inferred from data. \n",
    "    \n",
    "            name: str, optional\n",
    "                The name to give to the Series.\n",
    "                This will be useful when we need to combine serval series into one dataframe.\n",
    "    \n",
    "            (optional)copy: bool, default False\n",
    "                          Copy input data. Only affects Series or 1d ndarray input. See examples.\n",
    "    \n",
    "    For details:\n",
    "        https://pandas.pydata.org/docs/reference/api/pandas.Series.html"
   ]
  },
  {
   "cell_type": "code",
   "execution_count": 2,
   "id": "c88401a6-ca4b-4b51-907d-28bd25026ff5",
   "metadata": {},
   "outputs": [],
   "source": [
    "lis_1 = [1 ,2, 3]\n",
    "dic_1 = {'a': [1,2,3],\n",
    "         'b': [4,5,6],\n",
    "         'c': [7,8,9]}\n",
    "s_lis = pd.Series(lis_1)\n",
    "s_lis_inde = pd.Series(lis_1, index=['a', 'b', 'c'])\n",
    "s_lis_inde_name = pd.Series(lis_1, index=['a', 'b', 'c'], name='Series_lis')\n",
    "s_dic = pd.Series(dic_1)\n",
    "s_dic_2 = pd.Series(dic_1, \n",
    "                    index=['a','e','f'],\n",
    "                    name='s_dic_2')"
   ]
  },
  {
   "cell_type": "raw",
   "id": "48785e48-cfd9-4285-96b4-c03372dec405",
   "metadata": {},
   "source": [
    "Series: Attributes\n",
    "    1. Series.hasnans:\n",
    "        Return True if there are any NaNs.\n",
    "\n",
    "    2. Series.index\n",
    "\n",
    "    3. Series.is_unique\n",
    "\n",
    "    4. Series.name\n",
    "\n",
    "    5. Series.ndim ------> for series, always 1\n",
    "\n",
    "    6. Series.shape -------> for series, always (n,)\n",
    "\n",
    "    7. Series.size:\n",
    "        How many total items in the Series\n",
    "\n",
    "    8. Series.values "
   ]
  },
  {
   "cell_type": "code",
   "execution_count": 3,
   "id": "1eb1aaeb-c2d7-4897-abe6-adbd8632a4fe",
   "metadata": {},
   "outputs": [
    {
     "data": {
      "text/plain": [
       "Index(['a', 'b', 'c', 'd'], dtype='object')"
      ]
     },
     "execution_count": 3,
     "metadata": {},
     "output_type": "execute_result"
    }
   ],
   "source": [
    "dic_1 = {'a': [1,2,3],\n",
    "         'b': [4,5,6],\n",
    "         'c': [7,8,9]}\n",
    "s_dic = pd.Series(dic_1)\n",
    "s_1 = pd.Series([1,2,3], index=['a','b','c'], name='s_1')\n",
    "s_2 = pd.Series([1,2,np.nan, 4], index=['a','b','c','d'], name='s_2')\n",
    "s_3 = pd.Series([1,2,np.nan,2], index=['a','b','c','d'], name='s_3')\n",
    "\n",
    "s_1.hasnans\n",
    "s_2.hasnans\n",
    "\n",
    "s_2.is_unique\n",
    "s_3.is_unique\n",
    "\n",
    "s_3.name\n",
    "\n",
    "s_3.ndim\n",
    "\n",
    "s_3.shape\n",
    "\n",
    "s_3.size\n",
    "s_dic.size\n",
    "\n",
    "s_3.values\n",
    "\n",
    "s_3.index"
   ]
  },
  {
   "cell_type": "raw",
   "id": "651f5432-2747-492a-b040-646b46354fc2",
   "metadata": {},
   "source": [
    "Series: Methods\n",
    "    1. Series.abs(): \n",
    "        Return a Series/DataFrame with absolute numeric value of each element.\n",
    "        Only applies to elements that are all numeric.\n",
    "        \n",
    "    2. Series.add(other, \n",
    "                  fill_value=None, \n",
    "                  axis=0):\n",
    "        Return series + other\n",
    "        Add two series by maching the index, if not matched, use fill_value to substitute that missings.\n",
    "        When fill_value is not provide, i.e. None, Nan is used.\n",
    "        \n",
    "    3. Series.add_prefix(str):\n",
    "        Add str to the start of every index as a prefix.\n",
    "        \n",
    "    4. Series.add_suffix(str):\n",
    "        Add str to the end of every index as a suffix.\n",
    "        \n",
    "    5. Series.agg(func=None) = Series.aggregate(func=None): \n",
    "        Apply one func(function) or a list of functions to the whole Series not each value.\n",
    "        Some built-in aggregate func: (we can write our own, see example)\n",
    "            'mean'\n",
    "            'sum'\n",
    "            'size'\n",
    "            'count'\n",
    "            'std'\n",
    "            'var'\n",
    "            'sem' -----> standard error\n",
    "            'describe' ----> descriptive statistics (count, mean, std, min, qauntiles(25/50/75), max)\n",
    "            'first'\n",
    "            'last'\n",
    "            'min'\n",
    "            'max'\n",
    "    \n",
    "    6. Series.apply(func, args=())\n",
    "        Apply function to \"every value inside the series\" not to the whole seies.\n",
    "        func: Functoin to be applied to each value.\n",
    "        args: The others position arguments the function needs.\n",
    "            PS: Each value of the series should always be the first argument of the function.\n",
    "   \n",
    "    7. Series.align(other, \n",
    "                    join='outer',\n",
    "                    fill_value=None, \n",
    "                    method=None)\n",
    "        Use to make two series into one same shape (either outer or inner).\n",
    "        other: \n",
    "            DataFrame or Series\n",
    "        join:\n",
    "            {‘outer’, ‘inner’, ‘left’, ‘right’}, default ‘outer’\n",
    "        fill_value: \n",
    "            Value to use for missing values. \n",
    "            Defaults to np.nan.\n",
    "        method: \n",
    "            {‘backfill’, ‘bfill’, ‘pad’, ‘ffill’, None}, default None\n",
    "            Method to use for filling holes in reindexed Series.\n",
    "            PS:\n",
    "                pad / ffill: Use lAST valid observation to fill gap.\n",
    "                backfill / bfill: use NEXT valid observation to fill gap.\n",
    "    \n",
    "        PS: append is not working after 1.4.0\n",
    "    \n",
    "    \n",
    "    8. Series.argmax()\n",
    "        Return position of the maximum value.\n",
    "    \n",
    "    9. Serise.argmin()\n",
    "        Return position of the minimum value.\n",
    "    \n",
    "    10. Series.asfreq(freq, method=None, fill_value=None)\n",
    "        Convert time series to specified frequency.\n",
    "    \n",
    "    11. Series.at_time(time)\n",
    "        Select values at particular time of day (e.g., 9:30AM), including all days has this time.\n",
    "    \n",
    "    12. Series.autocorr(lag=1)\n",
    "        Compute the lag-N autocorrelation.\n",
    "    \n",
    "    13. Series.between(left, right, inclusive='both')"
   ]
  },
  {
   "cell_type": "code",
   "execution_count": 4,
   "id": "d90a0979-2a00-4240-becd-d02071d6aa16",
   "metadata": {},
   "outputs": [],
   "source": [
    "a = pd.Series([1,2,3], index=['a','b','c'])\n",
    "b = pd.Series([4,5,6,7], index=['a','b','c','d'])\n",
    "c = a.add(b, axis=0)\n",
    "c = a + b\n",
    "d = a.add(b, axis=0, fill_value=-1)"
   ]
  },
  {
   "cell_type": "code",
   "execution_count": 5,
   "id": "a25bd20c-74fd-4604-8885-a64b5580976a",
   "metadata": {},
   "outputs": [
    {
     "data": {
      "text/plain": [
       "row_0    1\n",
       "row_1    2\n",
       "row_2    3\n",
       "row_3    4\n",
       "dtype: int64"
      ]
     },
     "execution_count": 5,
     "metadata": {},
     "output_type": "execute_result"
    }
   ],
   "source": [
    "s = pd.Series([1, 2, 3, 4])\n",
    "s.add_prefix('row_')"
   ]
  },
  {
   "cell_type": "code",
   "execution_count": 6,
   "id": "a224f3ba-de8f-4a19-93c4-e7a3035c61c7",
   "metadata": {},
   "outputs": [
    {
     "data": {
      "text/plain": [
       "0th_row    1\n",
       "1th_row    2\n",
       "2th_row    3\n",
       "3th_row    4\n",
       "dtype: int64"
      ]
     },
     "execution_count": 6,
     "metadata": {},
     "output_type": "execute_result"
    }
   ],
   "source": [
    "s = pd.Series([1, 2, 3, 4])\n",
    "s.add_suffix('th_row')"
   ]
  },
  {
   "cell_type": "code",
   "execution_count": 7,
   "id": "4e969bbe-5728-4fa4-bd22-6db44c42e90b",
   "metadata": {},
   "outputs": [
    {
     "data": {
      "text/plain": [
       "fun    (5, 3.5)\n",
       "dtype: object"
      ]
     },
     "execution_count": 7,
     "metadata": {},
     "output_type": "execute_result"
    }
   ],
   "source": [
    "s = pd.Series([1, 2, 3, 4])\n",
    "s.agg(func='mean')\n",
    "s.agg(func=['min', 'max', 'mean'])\n",
    "\n",
    "def MAX_MIN_MEAN(s):\n",
    "    return s.max()+s.min()+s.mean()\n",
    "    \n",
    "s.agg(fun=MAX_MIN_MEAN)\n",
    "\n",
    "def multi_return(s):\n",
    "    return s.max()+s.min(), s.min()+s.mean()\n",
    "    \n",
    "s.agg(fun=multi_return)"
   ]
  },
  {
   "cell_type": "raw",
   "id": "73832418-3a07-414a-8362-905597deb904",
   "metadata": {},
   "source": [
    "Pandas: DataFrame\n",
    "    Two-dimensional, size-mutable, potentially heterogeneous tabular data.\n",
    "    The DataFrame has both a row and column index\n",
    "    \n",
    "    Construction:\n",
    "        pandas.DataFrame(data=None, \n",
    "                         index=None, \n",
    "                         columns=None, \n",
    "                         dtype=None, \n",
    "                         copy=None)\n",
    "        See apendix\n",
    "        https://pandas.pydata.org/docs/reference/frame.html#attributes-and-underlying-data"
   ]
  },
  {
   "cell_type": "code",
   "execution_count": 8,
   "id": "5ed4848d-f26b-4705-9932-906c3100da48",
   "metadata": {},
   "outputs": [],
   "source": [
    "# list of list ------> row\n",
    "lis_lis = [[1,2,3],\n",
    "           [4,5,6],\n",
    "           [7,8,9]]\n",
    "df_lis_lis = pd.DataFrame(lis_lis)"
   ]
  },
  {
   "cell_type": "code",
   "execution_count": 9,
   "id": "20db6a68-ba8b-4d12-ab50-98ad0a6c9228",
   "metadata": {},
   "outputs": [],
   "source": [
    "# list of Series ------> row\n",
    "s_1 = pd.Series([1,2,3], index=['a','b','c'], name='s_1')\n",
    "s_2 = pd.Series([4,5,6], index=['a','b','c'], name='s_2')\n",
    "s_3 = pd.Series([7,8,9], index=['a','b','c'], name='s_3')\n",
    "df_lis_ser = pd.DataFrame([s_1,s_2,s_3])"
   ]
  },
  {
   "cell_type": "code",
   "execution_count": 10,
   "id": "e1f6252a-910a-4f0b-aef2-c2472893b784",
   "metadata": {},
   "outputs": [],
   "source": [
    "# dictionary of lis ------> column\n",
    "dic_lis = {'a':[1,2,3],\n",
    "           'b':[4,5,6],\n",
    "           'c':[7,8,9]}\n",
    "df_dic_lis = pd.DataFrame(dic_lis)"
   ]
  },
  {
   "cell_type": "code",
   "execution_count": 11,
   "id": "0aa5cc37-d668-4bde-9888-5baf473ebda6",
   "metadata": {},
   "outputs": [],
   "source": [
    "# dictionary of series ------> column\n",
    "dic_ser = {'s_1': s_1,\n",
    "           's_2': s_2,\n",
    "           's_3': s_3}\n",
    "df_dic_ser = pd.DataFrame(dic_ser)"
   ]
  },
  {
   "cell_type": "code",
   "execution_count": 12,
   "id": "c724f622-1771-48a1-9c71-116b2395ce0f",
   "metadata": {},
   "outputs": [],
   "source": [
    "# dictionary of dictionary \n",
    "dic_dic = {'c_1': {'r_1':1, 'r_2':4, 'r_3':7},\n",
    "           'c_2': {'r_1':2, 'r_2':5, 'r_3':8},\n",
    "           'c_3': {'r_1':3, 'r_2':6, 'r_3':9}}\n",
    "df_dic_dic = pd.DataFrame(dic_dic)"
   ]
  },
  {
   "cell_type": "raw",
   "id": "9eb2cce4-6cd9-46ca-b3e1-86702f9c7cdf",
   "metadata": {},
   "source": [
    "DataFrame: Attributes\n",
    "    1. df.index\n",
    "\n",
    "    2. df.columns\n",
    "\n",
    "    3. df.axes\n",
    "\n",
    "    4. df.values\n",
    "\n",
    "    5. df.size\n",
    "\n",
    "    6. df.shape\n",
    "\n",
    "    7. df.ndim\n",
    "\n",
    "    8. df.T (transpose)"
   ]
  },
  {
   "cell_type": "code",
   "execution_count": 13,
   "id": "f5c22c13-d336-4a4e-93df-ef1fda8a72d7",
   "metadata": {},
   "outputs": [
    {
     "data": {
      "text/plain": [
       "2"
      ]
     },
     "execution_count": 13,
     "metadata": {},
     "output_type": "execute_result"
    }
   ],
   "source": [
    "s_1 = pd.Series([1,2,3], index=['a','b','c'], name='s_1')\n",
    "s_2 = pd.Series([4,5,6], index=['a','b','c'], name='s_2')\n",
    "df = pd.DataFrame([s_1,s_2])\n",
    "df.index\n",
    "df.columns\n",
    "df.axes\n",
    "df.values\n",
    "df.size\n",
    "df.shape\n",
    "df.ndim"
   ]
  },
  {
   "cell_type": "raw",
   "id": "032a9191-f884-4486-8fd4-c826cd506484",
   "metadata": {},
   "source": [
    "Pandas: Index"
   ]
  },
  {
   "cell_type": "code",
   "execution_count": 14,
   "id": "e6bcb91f-8b7a-4607-8339-f4cfebe00122",
   "metadata": {},
   "outputs": [],
   "source": [
    "# 1. reindex\n",
    "\"\"\"\n",
    "    DataFrame.reindex(newindex, \n",
    "                      axis=None, \n",
    "                      method=None, \n",
    "                      level=None, \n",
    "                      fill_value=nan, \n",
    "                      limit=None)\n",
    "\"\"\"\n",
    "df_1 = pd.DataFrame([[1,2,3],\n",
    "                     [4,5,6],\n",
    "                     [7,8,9]],\n",
    "                     index=['r_1', 'r_2', 'r_3'],\n",
    "                     columns=['c_1', 'c_2', 'c_3'])\n",
    "new_index = ['r_1', 'x_1', 'x_2', 'r_2']\n",
    "new_columns = ['c_1', 'y_1', 'c_3']\n",
    "df_2 = df_1.reindex(new_index, axis=0)#method='nearest')"
   ]
  },
  {
   "cell_type": "code",
   "execution_count": 16,
   "id": "9300fca7-0afc-4a26-8c33-e79e89d84335",
   "metadata": {},
   "outputs": [],
   "source": [
    "# 2. rename index\n",
    "\"\"\"\n",
    "    1. df.index = newindex\n",
    "       df.columns = newcolumn\n",
    "    2. df.set_axis(newindex/newcolumn, axis=0)\n",
    "    3. df.rename(dic, axis=0/1, inplace=False)\n",
    "\"\"\"\n",
    "s_1 = pd.Series([1,2,3], index=['a','b','c'], name='s_1')\n",
    "s_2 = pd.Series([4,5,6], index=['a','b','c'], name='s_2')\n",
    "df = pd.DataFrame([s_1,s_2])\n",
    "\n",
    "df.index = ['s_3', 's_4']\n",
    "\n",
    "df.set_axis(['s_3', 's_4'], axis=0)\n",
    "\n",
    "df.rename({'s_1':'s_3'},axis=0, inplace=True)\n",
    "df.rename(index={'s_1':'s_3'}, columns={'a':'A'}, inplace=True)\n"
   ]
  },
  {
   "cell_type": "raw",
   "id": "5ea1e5e7-5bbc-4a1d-b7cf-5483c66f54c0",
   "metadata": {},
   "source": [
    "Pandas: Data Preprocessing"
   ]
  },
  {
   "cell_type": "code",
   "execution_count": 17,
   "id": "779d1973-cffe-4b2a-9477-b8b71e359112",
   "metadata": {},
   "outputs": [
    {
     "data": {
      "text/html": [
       "<div>\n",
       "<style scoped>\n",
       "    .dataframe tbody tr th:only-of-type {\n",
       "        vertical-align: middle;\n",
       "    }\n",
       "\n",
       "    .dataframe tbody tr th {\n",
       "        vertical-align: top;\n",
       "    }\n",
       "\n",
       "    .dataframe thead th {\n",
       "        text-align: right;\n",
       "    }\n",
       "</style>\n",
       "<table border=\"1\" class=\"dataframe\">\n",
       "  <thead>\n",
       "    <tr style=\"text-align: right;\">\n",
       "      <th></th>\n",
       "      <th>c_1</th>\n",
       "      <th>c_2</th>\n",
       "      <th>c_3</th>\n",
       "    </tr>\n",
       "  </thead>\n",
       "  <tbody>\n",
       "    <tr>\n",
       "      <th>r_2</th>\n",
       "      <td>4</td>\n",
       "      <td>5</td>\n",
       "      <td>6</td>\n",
       "    </tr>\n",
       "    <tr>\n",
       "      <th>r_3</th>\n",
       "      <td>7</td>\n",
       "      <td>8</td>\n",
       "      <td>9</td>\n",
       "    </tr>\n",
       "  </tbody>\n",
       "</table>\n",
       "</div>"
      ],
      "text/plain": [
       "     c_1  c_2  c_3\n",
       "r_2    4    5    6\n",
       "r_3    7    8    9"
      ]
     },
     "execution_count": 17,
     "metadata": {},
     "output_type": "execute_result"
    }
   ],
   "source": [
    "# 1. Indexing, Slicing, Iterating\n",
    "\"\"\"\n",
    "    1. loc[:]\n",
    "    2. iloc[:] ------> integer\n",
    "    3. at[:]\n",
    "    4. iat[:] -------> integer\n",
    "    5. [:]\n",
    "    6. head(n=5)\n",
    "    7. tail(n=5)\n",
    "    8. items()\n",
    "    9. iterrows() ------> row base\n",
    "\"\"\"\n",
    "df_1 = pd.DataFrame([[1,2,3],\n",
    "                     [4,5,6],\n",
    "                     [7,8,9]],\n",
    "                    index=['r_1', 'r_2', 'r_3'],\n",
    "                    columns=['c_1', 'c_2', 'c_3'])\n",
    "\n",
    "df_1.iloc[0:2, 1:]\n",
    "df_1.iloc[0,:]\n",
    "\n",
    "df_1.loc[['r_1','r_3'] ,['c_1','c_2']]\n",
    "df_1.loc['r_1':'r_2' ,'c_1':'c_2']\n",
    "\n",
    "df_1.at['r_1','c_2']\n",
    "\n",
    "df_1.iat[0,1] == df_1.iloc[0,1]\n",
    "\n",
    "df_1['c_1']\n",
    "df_1[['c_1','c_3']]\n",
    "df_1[0:1]\n",
    "\n",
    "s_1[0:3]\n",
    "s_1['a':'d']\n",
    "s_1.loc['a':'d']\n",
    "s_1.iloc[0:3]\n",
    "\n",
    "\n",
    "df_2 = pd.DataFrame([[1,2,3],\n",
    "                     [4,5,6],\n",
    "                     [7,8,9]])\n",
    "df_2.iloc[0:2, 0:2]\n",
    "df_2.loc[0:2, 0:2]\n",
    "\n",
    "\n",
    "df_1.head(2)\n",
    "df_1.tail(2)"
   ]
  },
  {
   "cell_type": "code",
   "execution_count": 18,
   "id": "7a6b70c4-defb-476a-ad2f-a699411edd20",
   "metadata": {},
   "outputs": [],
   "source": [
    "# 1.1 Other Indexing: Boolean Indexing\n",
    "\"\"\"\n",
    "    1. Series[boolean expression]\n",
    "    2. Series.loc[boolean expression]\n",
    "    3. DataFrame[boolean expression for row]\n",
    "    4. DataFrame.loc[boolean expression for row, boolean expression for column]\n",
    "\"\"\"\n",
    "index = ['a', 'b', 'c', 'd', 'e']\n",
    "col = ['c1','c2','c3','c4', 'c5']\n",
    "s_1 = pd.Series([1,2,3,4,5],\n",
    "                index = index)\n",
    "df_1 = pd.DataFrame([[1, 2, 3, 4, 5],\n",
    "                     [6, 7, 8, 9, 10],\n",
    "                     [11,12,13,14,15],\n",
    "                     [16,17,18,19,20],\n",
    "                     [21,22,23,24,25]],\n",
    "                    index = index,\n",
    "                    columns = col)\n",
    "s_boo = s_1[[True, False, False, True, True]]\n",
    "s_boo = s_1.loc[[True, False, False, True, True]]\n",
    "\n",
    "df_3 = df_1[[True, True, True, False, False]]\n",
    "df_3 = df_1[df_1['c1']<15]\n",
    "\n",
    "df_4 = df_1.loc[[True, True, True, False, False], [True, True, True, False, False]]\n",
    "df_5 = df_1.loc[df_1['c1']<10, df_1.loc['d',:]<19]"
   ]
  },
  {
   "cell_type": "code",
   "execution_count": 19,
   "id": "f9583131-39d0-48a8-8890-66e604f1abca",
   "metadata": {},
   "outputs": [
    {
     "data": {
      "text/plain": [
       "a     15\n",
       "b     40\n",
       "c     65\n",
       "d     90\n",
       "e    115\n",
       "dtype: int64"
      ]
     },
     "execution_count": 19,
     "metadata": {},
     "output_type": "execute_result"
    }
   ],
   "source": [
    "# 2. Summarizing and Computing Descriptive Statistics\n",
    "\"\"\"\n",
    "for dataframe, 'axis' need to be assigned, either 0 or 1.\n",
    "    1. sum()\n",
    "    2. mean()\n",
    "    3. median()\n",
    "    4. prod() ------> 連乘\n",
    "    5. var()\n",
    "    6. std()\n",
    "    7. diff() -------> 前者差距\n",
    "    8. pct_change()\n",
    "    3. idxmax(), idxmin()\n",
    "    4. argmax(), argmin()\n",
    "    5. describe()\n",
    "    5. count()\n",
    "    6. abs()\n",
    "    7. corr()\n",
    "    8. cov()\n",
    "    9. min()\n",
    "    10. max()\n",
    "    11. mode()\n",
    "    12. nunique()\n",
    "    13. value_counts()\n",
    "    14. info()\n",
    "\"\"\"\n",
    "index = ['a', 'b', 'c', 'd', 'e']\n",
    "col = ['c1','c2','c3','c4', 'c5']\n",
    "df_2 = pd.DataFrame([[1, 2, 3, 4, 5],\n",
    "                     [6, 7, 8, 9, 10],\n",
    "                     [11,12,13,14,15],\n",
    "                     [16,17,18,19,20],\n",
    "                     [21,22,23,24,25]],\n",
    "                    index = index,\n",
    "                    columns = col)\n",
    "s_2 = pd.Series([1, 2, 3, 4, 5], index=index)\n",
    "\n",
    "df_2.sum() == df_2.sum(axis=0)\n",
    "df_2.sum(axis=1)"
   ]
  },
  {
   "cell_type": "code",
   "execution_count": 20,
   "id": "85250e23-356b-40b0-aac5-4da6a490ceb4",
   "metadata": {},
   "outputs": [
    {
     "name": "stderr",
     "output_type": "stream",
     "text": [
      "C:\\Users\\yhn12\\AppData\\Local\\Temp\\ipykernel_36556\\3695496681.py:79: FutureWarning: DataFrame.applymap has been deprecated. Use DataFrame.map instead.\n",
      "  result_applymap = df_2.applymap(trans)\n",
      "C:\\Users\\yhn12\\AppData\\Local\\Temp\\ipykernel_36556\\3695496681.py:81: FutureWarning: DataFrame.applymap has been deprecated. Use DataFrame.map instead.\n",
      "  result_lam = df_2.applymap(lambda x: x*(-1)+10)\n"
     ]
    }
   ],
   "source": [
    "# 3. Mapping/Repeating functions on iitems or entire series\n",
    "\"\"\"\n",
    "    1. Series.map(arg, \n",
    "                  na_action=None):\n",
    "        arg: function, collections.abc.Mapping subclass or Series\n",
    "             Mapping correspondence.\n",
    "        na_action: {None, ‘ignore’}, default None\n",
    "             If ‘ignore’, propagate NaN values, without passing them to the mapping correspondence.\n",
    "        --------> element based on Series\n",
    "    \n",
    "    2. DataFrame.apply(func, \n",
    "                       axis=0, \n",
    "                       **kwargs)\n",
    "        --------> row/column based on DataFrame\n",
    "    \n",
    "    3. DataFrame.applymap(func, \n",
    "                          na_action=None, \n",
    "                          **kwargs)\n",
    "        --------> element based on DataFrame\n",
    "    \n",
    "\"\"\"\n",
    "\n",
    "scores = pd.Series([90, 65, 40, 80, 75], index=['a','b','c','d','e'])\n",
    "## squart * 10 \n",
    "def score_trans(x):\n",
    "    y = x**0.5 * 10\n",
    "    return y\n",
    "## Method 1: for loop\n",
    "new_scores = []\n",
    "for i in scores:\n",
    "    new_scores.append(score_trans(i))\n",
    "new_scores = pd.Series(new_scores, index=scores.index)\n",
    "## Method 2.1: Series.map()\n",
    "new_scores_map = scores.map(score_trans)\n",
    "## Method 2.2: lambda\n",
    "new_scores_lam = scores.map(lambda x: x**0.5*10 )\n",
    "\n",
    "## apply\n",
    "index = ['a', 'b', 'c', 'd', 'e']\n",
    "col = ['c1','c2','c3','c4', 'c5']\n",
    "df_2 = pd.DataFrame([[1, 2, 3, 4, 5],\n",
    "                     [6, 7, 8, 9, 10],\n",
    "                     [11,12,13,14,15],\n",
    "                     [16,17,18,19,20],\n",
    "                     [21,22,23,24,25]],\n",
    "                    index = index,\n",
    "                    columns = col)\n",
    "## Method 1: for loop\n",
    "result = []\n",
    "def trans(col):\n",
    "    return (col.max()-col.min())/col.mean()\n",
    "for col_name, col in df_2.items():\n",
    "    result.append(trans(col))\n",
    "result = pd.Series(result, index=df_2.columns)\n",
    "\n",
    "## Method 2.1: DataFrame.apply()\n",
    "result_apply = df_2.apply(trans, axis=0)\n",
    "\n",
    "## Method 2.2: lambda\n",
    "result_lamp = df_2.apply(lambda x: (x.max()-x.min())/x.mean(), axis=0)\n",
    "\n",
    "\n",
    "## applymap\n",
    "index = ['a', 'b', 'c', 'd', 'e']\n",
    "col = ['c1','c2','c3','c4', 'c5']\n",
    "df_2 = pd.DataFrame([[1, 2, 3, 4, 5],\n",
    "                     [6, 7, 8, 9, 10],\n",
    "                     [11,12,13,14,15],\n",
    "                     [16,17,18,19,20],\n",
    "                     [21,22,23,24,25]],\n",
    "                    index = index,\n",
    "                    columns = col)\n",
    "\n",
    "## Method 1: for loop\n",
    "\n",
    "## Method 2.1: DataFrame.applymap()\n",
    "def trans(x):\n",
    "    return x*(-1) + 10\n",
    "result_applymap = df_2.applymap(trans)\n",
    "## Method 2.2: lambda\n",
    "result_lam = df_2.applymap(lambda x: x*(-1)+10)"
   ]
  },
  {
   "cell_type": "code",
   "execution_count": 21,
   "id": "cc0cd824-6a75-468a-bbea-47631c0f80f5",
   "metadata": {},
   "outputs": [
    {
     "ename": "KeyError",
     "evalue": "\"['c1'] not found in axis\"",
     "output_type": "error",
     "traceback": [
      "\u001b[1;31m---------------------------------------------------------------------------\u001b[0m",
      "\u001b[1;31mKeyError\u001b[0m                                  Traceback (most recent call last)",
      "Cell \u001b[1;32mIn[21], line 18\u001b[0m\n\u001b[0;32m     10\u001b[0m df_2 \u001b[38;5;241m=\u001b[39m pd\u001b[38;5;241m.\u001b[39mDataFrame([[\u001b[38;5;241m1\u001b[39m, \u001b[38;5;241m2\u001b[39m, \u001b[38;5;241m3\u001b[39m, \u001b[38;5;241m4\u001b[39m, \u001b[38;5;241m5\u001b[39m],\n\u001b[0;32m     11\u001b[0m                      [\u001b[38;5;241m6\u001b[39m, \u001b[38;5;241m7\u001b[39m, \u001b[38;5;241m8\u001b[39m, \u001b[38;5;241m9\u001b[39m, \u001b[38;5;241m10\u001b[39m],\n\u001b[0;32m     12\u001b[0m                      [\u001b[38;5;241m11\u001b[39m,\u001b[38;5;241m12\u001b[39m,\u001b[38;5;241m13\u001b[39m,\u001b[38;5;241m14\u001b[39m,\u001b[38;5;241m15\u001b[39m],\n\u001b[1;32m   (...)\u001b[0m\n\u001b[0;32m     15\u001b[0m                     index \u001b[38;5;241m=\u001b[39m index,\n\u001b[0;32m     16\u001b[0m                     columns \u001b[38;5;241m=\u001b[39m col)\n\u001b[0;32m     17\u001b[0m df_2 \u001b[38;5;241m=\u001b[39m df_2\u001b[38;5;241m.\u001b[39mdrop(\u001b[38;5;124m'\u001b[39m\u001b[38;5;124mc1\u001b[39m\u001b[38;5;124m'\u001b[39m, axis\u001b[38;5;241m=\u001b[39m\u001b[38;5;241m1\u001b[39m)\n\u001b[1;32m---> 18\u001b[0m df_2\u001b[38;5;241m.\u001b[39mdrop(\u001b[38;5;124m'\u001b[39m\u001b[38;5;124mc1\u001b[39m\u001b[38;5;124m'\u001b[39m, axis\u001b[38;5;241m=\u001b[39m\u001b[38;5;241m1\u001b[39m, inplace\u001b[38;5;241m=\u001b[39m\u001b[38;5;28;01mTrue\u001b[39;00m)\n\u001b[0;32m     20\u001b[0m df_2 \u001b[38;5;241m=\u001b[39m pd\u001b[38;5;241m.\u001b[39mDataFrame([[\u001b[38;5;241m1\u001b[39m, \u001b[38;5;241m2\u001b[39m, \u001b[38;5;241m3\u001b[39m, \u001b[38;5;241m4\u001b[39m, \u001b[38;5;241m5\u001b[39m],\n\u001b[0;32m     21\u001b[0m                      [\u001b[38;5;241m6\u001b[39m, \u001b[38;5;241m7\u001b[39m, \u001b[38;5;241m8\u001b[39m, \u001b[38;5;241m9\u001b[39m, \u001b[38;5;241m10\u001b[39m],\n\u001b[0;32m     22\u001b[0m                      [\u001b[38;5;241m11\u001b[39m,\u001b[38;5;241m12\u001b[39m,\u001b[38;5;241m13\u001b[39m,\u001b[38;5;241m14\u001b[39m,\u001b[38;5;241m15\u001b[39m],\n\u001b[1;32m   (...)\u001b[0m\n\u001b[0;32m     25\u001b[0m                     index \u001b[38;5;241m=\u001b[39m index,\n\u001b[0;32m     26\u001b[0m                     columns \u001b[38;5;241m=\u001b[39m col)\n\u001b[0;32m     27\u001b[0m df_2\u001b[38;5;241m.\u001b[39mdrop([\u001b[38;5;124m'\u001b[39m\u001b[38;5;124mc1\u001b[39m\u001b[38;5;124m'\u001b[39m,\u001b[38;5;124m'\u001b[39m\u001b[38;5;124mc3\u001b[39m\u001b[38;5;124m'\u001b[39m,\u001b[38;5;124m'\u001b[39m\u001b[38;5;124mc4\u001b[39m\u001b[38;5;124m'\u001b[39m], axis\u001b[38;5;241m=\u001b[39m\u001b[38;5;241m1\u001b[39m, inplace\u001b[38;5;241m=\u001b[39m\u001b[38;5;28;01mTrue\u001b[39;00m)\n",
      "File \u001b[1;32mD:\\anaconda3\\Lib\\site-packages\\pandas\\core\\frame.py:5344\u001b[0m, in \u001b[0;36mDataFrame.drop\u001b[1;34m(self, labels, axis, index, columns, level, inplace, errors)\u001b[0m\n\u001b[0;32m   5196\u001b[0m \u001b[38;5;28;01mdef\u001b[39;00m \u001b[38;5;21mdrop\u001b[39m(\n\u001b[0;32m   5197\u001b[0m     \u001b[38;5;28mself\u001b[39m,\n\u001b[0;32m   5198\u001b[0m     labels: IndexLabel \u001b[38;5;241m|\u001b[39m \u001b[38;5;28;01mNone\u001b[39;00m \u001b[38;5;241m=\u001b[39m \u001b[38;5;28;01mNone\u001b[39;00m,\n\u001b[1;32m   (...)\u001b[0m\n\u001b[0;32m   5205\u001b[0m     errors: IgnoreRaise \u001b[38;5;241m=\u001b[39m \u001b[38;5;124m\"\u001b[39m\u001b[38;5;124mraise\u001b[39m\u001b[38;5;124m\"\u001b[39m,\n\u001b[0;32m   5206\u001b[0m ) \u001b[38;5;241m-\u001b[39m\u001b[38;5;241m>\u001b[39m DataFrame \u001b[38;5;241m|\u001b[39m \u001b[38;5;28;01mNone\u001b[39;00m:\n\u001b[0;32m   5207\u001b[0m \u001b[38;5;250m    \u001b[39m\u001b[38;5;124;03m\"\"\"\u001b[39;00m\n\u001b[0;32m   5208\u001b[0m \u001b[38;5;124;03m    Drop specified labels from rows or columns.\u001b[39;00m\n\u001b[0;32m   5209\u001b[0m \n\u001b[1;32m   (...)\u001b[0m\n\u001b[0;32m   5342\u001b[0m \u001b[38;5;124;03m            weight  1.0     0.8\u001b[39;00m\n\u001b[0;32m   5343\u001b[0m \u001b[38;5;124;03m    \"\"\"\u001b[39;00m\n\u001b[1;32m-> 5344\u001b[0m     \u001b[38;5;28;01mreturn\u001b[39;00m \u001b[38;5;28msuper\u001b[39m()\u001b[38;5;241m.\u001b[39mdrop(\n\u001b[0;32m   5345\u001b[0m         labels\u001b[38;5;241m=\u001b[39mlabels,\n\u001b[0;32m   5346\u001b[0m         axis\u001b[38;5;241m=\u001b[39maxis,\n\u001b[0;32m   5347\u001b[0m         index\u001b[38;5;241m=\u001b[39mindex,\n\u001b[0;32m   5348\u001b[0m         columns\u001b[38;5;241m=\u001b[39mcolumns,\n\u001b[0;32m   5349\u001b[0m         level\u001b[38;5;241m=\u001b[39mlevel,\n\u001b[0;32m   5350\u001b[0m         inplace\u001b[38;5;241m=\u001b[39minplace,\n\u001b[0;32m   5351\u001b[0m         errors\u001b[38;5;241m=\u001b[39merrors,\n\u001b[0;32m   5352\u001b[0m     )\n",
      "File \u001b[1;32mD:\\anaconda3\\Lib\\site-packages\\pandas\\core\\generic.py:4711\u001b[0m, in \u001b[0;36mNDFrame.drop\u001b[1;34m(self, labels, axis, index, columns, level, inplace, errors)\u001b[0m\n\u001b[0;32m   4709\u001b[0m \u001b[38;5;28;01mfor\u001b[39;00m axis, labels \u001b[38;5;129;01min\u001b[39;00m axes\u001b[38;5;241m.\u001b[39mitems():\n\u001b[0;32m   4710\u001b[0m     \u001b[38;5;28;01mif\u001b[39;00m labels \u001b[38;5;129;01mis\u001b[39;00m \u001b[38;5;129;01mnot\u001b[39;00m \u001b[38;5;28;01mNone\u001b[39;00m:\n\u001b[1;32m-> 4711\u001b[0m         obj \u001b[38;5;241m=\u001b[39m obj\u001b[38;5;241m.\u001b[39m_drop_axis(labels, axis, level\u001b[38;5;241m=\u001b[39mlevel, errors\u001b[38;5;241m=\u001b[39merrors)\n\u001b[0;32m   4713\u001b[0m \u001b[38;5;28;01mif\u001b[39;00m inplace:\n\u001b[0;32m   4714\u001b[0m     \u001b[38;5;28mself\u001b[39m\u001b[38;5;241m.\u001b[39m_update_inplace(obj)\n",
      "File \u001b[1;32mD:\\anaconda3\\Lib\\site-packages\\pandas\\core\\generic.py:4753\u001b[0m, in \u001b[0;36mNDFrame._drop_axis\u001b[1;34m(self, labels, axis, level, errors, only_slice)\u001b[0m\n\u001b[0;32m   4751\u001b[0m         new_axis \u001b[38;5;241m=\u001b[39m axis\u001b[38;5;241m.\u001b[39mdrop(labels, level\u001b[38;5;241m=\u001b[39mlevel, errors\u001b[38;5;241m=\u001b[39merrors)\n\u001b[0;32m   4752\u001b[0m     \u001b[38;5;28;01melse\u001b[39;00m:\n\u001b[1;32m-> 4753\u001b[0m         new_axis \u001b[38;5;241m=\u001b[39m axis\u001b[38;5;241m.\u001b[39mdrop(labels, errors\u001b[38;5;241m=\u001b[39merrors)\n\u001b[0;32m   4754\u001b[0m     indexer \u001b[38;5;241m=\u001b[39m axis\u001b[38;5;241m.\u001b[39mget_indexer(new_axis)\n\u001b[0;32m   4756\u001b[0m \u001b[38;5;66;03m# Case for non-unique axis\u001b[39;00m\n\u001b[0;32m   4757\u001b[0m \u001b[38;5;28;01melse\u001b[39;00m:\n",
      "File \u001b[1;32mD:\\anaconda3\\Lib\\site-packages\\pandas\\core\\indexes\\base.py:7000\u001b[0m, in \u001b[0;36mIndex.drop\u001b[1;34m(self, labels, errors)\u001b[0m\n\u001b[0;32m   6998\u001b[0m \u001b[38;5;28;01mif\u001b[39;00m mask\u001b[38;5;241m.\u001b[39many():\n\u001b[0;32m   6999\u001b[0m     \u001b[38;5;28;01mif\u001b[39;00m errors \u001b[38;5;241m!=\u001b[39m \u001b[38;5;124m\"\u001b[39m\u001b[38;5;124mignore\u001b[39m\u001b[38;5;124m\"\u001b[39m:\n\u001b[1;32m-> 7000\u001b[0m         \u001b[38;5;28;01mraise\u001b[39;00m \u001b[38;5;167;01mKeyError\u001b[39;00m(\u001b[38;5;124mf\u001b[39m\u001b[38;5;124m\"\u001b[39m\u001b[38;5;132;01m{\u001b[39;00mlabels[mask]\u001b[38;5;241m.\u001b[39mtolist()\u001b[38;5;132;01m}\u001b[39;00m\u001b[38;5;124m not found in axis\u001b[39m\u001b[38;5;124m\"\u001b[39m)\n\u001b[0;32m   7001\u001b[0m     indexer \u001b[38;5;241m=\u001b[39m indexer[\u001b[38;5;241m~\u001b[39mmask]\n\u001b[0;32m   7002\u001b[0m \u001b[38;5;28;01mreturn\u001b[39;00m \u001b[38;5;28mself\u001b[39m\u001b[38;5;241m.\u001b[39mdelete(indexer)\n",
      "\u001b[1;31mKeyError\u001b[0m: \"['c1'] not found in axis\""
     ]
    }
   ],
   "source": [
    "# 4. Droping entire row or column\n",
    "\"\"\"\n",
    "    1. drop(labels=None, \n",
    "            axis=0, \n",
    "            level=None, \n",
    "            inplace=False)\n",
    "\"\"\"\n",
    "index = ['a', 'b', 'c', 'd', 'e']\n",
    "col = ['c1','c2','c3','c4', 'c5']\n",
    "df_2 = pd.DataFrame([[1, 2, 3, 4, 5],\n",
    "                     [6, 7, 8, 9, 10],\n",
    "                     [11,12,13,14,15],\n",
    "                     [16,17,18,19,20],\n",
    "                     [21,22,23,24,25]],\n",
    "                    index = index,\n",
    "                    columns = col)\n",
    "df_2 = df_2.drop('c1', axis=1)\n",
    "df_2.drop('c1', axis=1, inplace=True)\n",
    "\n",
    "df_2 = pd.DataFrame([[1, 2, 3, 4, 5],\n",
    "                     [6, 7, 8, 9, 10],\n",
    "                     [11,12,13,14,15],\n",
    "                     [16,17,18,19,20],\n",
    "                     [21,22,23,24,25]],\n",
    "                    index = index,\n",
    "                    columns = col)\n",
    "df_2.drop(['c1','c3','c4'], axis=1, inplace=True)\n",
    "\n",
    "df_2 = pd.DataFrame([[1, 2, 3, 4, 5],\n",
    "                     [6, 7, 8, 9, 10],\n",
    "                     [11,12,13,14,15],\n",
    "                     [16,17,18,19,20],\n",
    "                     [21,22,23,24,25]],\n",
    "                    index = index,\n",
    "                    columns = col)\n",
    "df_2.drop(['a','b'], axis=0, inplace=True)"
   ]
  },
  {
   "cell_type": "code",
   "execution_count": null,
   "id": "44c5e948-1a11-4444-a5e5-74cfd9a46200",
   "metadata": {},
   "outputs": [],
   "source": [
    "# 5. Missing Values: Check, Count, Drop, Impute \n",
    "\"\"\"\n",
    "    1. isnull()\n",
    "    2. notnull()\n",
    "    3. dropna(axis=0/1, \n",
    "              how='any'/'all', \n",
    "              thresh=None, \n",
    "              inplace=False,\n",
    "              subset=None)\n",
    "    4. fillna(value=None, \n",
    "              method={‘bfill’, ‘ffill’, None}, \n",
    "              axis=None, \n",
    "              inplace=False, \n",
    "              limit=None)\n",
    "\"\"\"\n",
    "s = pd.Series([1,np.nan,2])\n",
    "index = ['a', 'b', 'c', 'd', 'e']\n",
    "col = ['c1','c2','c3','c4', 'c5']\n",
    "df_2 = pd.DataFrame([[1, np.nan, 3, np.nan, 5],\n",
    "                     [6, 7, 8, 9, 10],\n",
    "                     [11,np.nan,13,np.nan,15],\n",
    "                     [16,17,18,19,20],\n",
    "                     [21,np.nan,np.nan,24,np.nan]],\n",
    "                    index = index,\n",
    "                    columns = col)\n",
    "df_2_drop = df_2.dropna(axis=0, thresh=2, subset=['c2', 'c3'])\n",
    "df_2_fill = df_2.fillna()\n",
    "\n",
    "## fillna---->mean()\n",
    "fill_dic = {'c1':df_2['c1'].mean(),\n",
    "            'c2':df_2['c2'].mean(),\n",
    "            'c3':df_2['c3'].mean(),\n",
    "            'c4':df_2['c4'].mean(),\n",
    "            'c5':df_2['c5'].mean()}\n",
    "df_2_fillmean = df_2.fillna(value=fill_dic, axis=1)"
   ]
  },
  {
   "cell_type": "code",
   "execution_count": 22,
   "id": "dbdbf611-57e7-4e66-819f-65929b442400",
   "metadata": {},
   "outputs": [
    {
     "data": {
      "text/plain": [
       "'\\n    1. duplicated(subset=None, \\n                  keep={‘first’, ‘last’})\\n        https://pandas.pydata.org/docs/reference/api/pandas.DataFrame.duplicated.html?highlight=duplicated#pandas.DataFrame.duplicated\\n    2. drop_duplicated(subset=None, \\n                       keep={‘first’, ‘last’}, \\n                       inplace=False, \\n                       ignore_index=False)\\n        https://pandas.pydata.org/docs/reference/api/pandas.DataFrame.drop_duplicates.html?highlight=drop_duplicated\\n'"
      ]
     },
     "execution_count": 22,
     "metadata": {},
     "output_type": "execute_result"
    }
   ],
   "source": [
    "# 6. Duplicate: Check, drop ------> row\n",
    "\"\"\"\n",
    "    1. duplicated(subset=None, \n",
    "                  keep={‘first’, ‘last’})\n",
    "        https://pandas.pydata.org/docs/reference/api/pandas.DataFrame.duplicated.html?highlight=duplicated#pandas.DataFrame.duplicated\n",
    "    2. drop_duplicated(subset=None, \n",
    "                       keep={‘first’, ‘last’}, \n",
    "                       inplace=False, \n",
    "                       ignore_index=False)\n",
    "        https://pandas.pydata.org/docs/reference/api/pandas.DataFrame.drop_duplicates.html?highlight=drop_duplicated\n",
    "\"\"\""
   ]
  },
  {
   "cell_type": "code",
   "execution_count": 23,
   "id": "0f41836a-386a-4a0a-8f0d-14fe41dba324",
   "metadata": {},
   "outputs": [],
   "source": [
    "# 7. Replacing values: replace, map\n",
    "\"\"\"\n",
    "    1. replace(to_replace, \n",
    "               value, \n",
    "               inplace=False,\n",
    "               regex=False, \n",
    "               method={‘ffill’, ‘bfill’, None})\n",
    "    \n",
    "    2. with map/applymap method\n",
    "\"\"\"\n",
    "index = ['a', 'b', 'c', 'd', 'e']\n",
    "col = ['c1','c2','c3','c4', 'c5']\n",
    "df_2 = pd.DataFrame([[1, 2, 3, 4, 5],\n",
    "                     [1, 7, 3, 9, 10],\n",
    "                     [1,12,3,14,15],\n",
    "                     [1,17,3,19,20],\n",
    "                     [1,22,3,24,25]],\n",
    "                    index = index,\n",
    "                    columns = col)\n",
    "df_2_replace_1 = df_2.replace(1, 'missing')\n",
    "df_2_replace_multi = df_2.replace({1:'miss_1',\n",
    "                                   3:'miss_3',\n",
    "                                   12:'miss_12'})"
   ]
  },
  {
   "cell_type": "code",
   "execution_count": 24,
   "id": "c2fb279a-ad92-4482-b189-1a05acf0875f",
   "metadata": {},
   "outputs": [],
   "source": [
    "# 8. One-Hot Encoding: get_dummies\n",
    "\"\"\"\n",
    "    pd.get_dummies(data, \n",
    "                   prefix=None, \n",
    "                   prefix_sep='_', \n",
    "                   dummy_na=False, \n",
    "                   columns=None, \n",
    "                   drop_first=False)\n",
    "\"\"\"\n",
    "df = pd.DataFrame({'A': ['a', 'b', 'a'], 'B': ['b', 'a', 'c'],\n",
    "                   'C': [1, 2, 3]})\n",
    "df_dumy = pd.get_dummies(df,\n",
    "                         prefix=[\"A\",\"B\"],\n",
    "                         prefix_sep='_',\n",
    "                         columns=['A','B'],\n",
    "                         drop_first=True)"
   ]
  },
  {
   "cell_type": "code",
   "execution_count": 25,
   "id": "e754d322-45ff-4346-9118-a776ef07eb9f",
   "metadata": {},
   "outputs": [
    {
     "data": {
      "text/plain": [
       "'\\n    1. pd.cut(x, \\n              bins, \\n              right=True, \\n              labels=None, \\n              precision=3)\\n    \\n    2. pd.qcut(x, \\n               q, \\n               labels=None,  \\n               precision=3)\\n'"
      ]
     },
     "execution_count": 25,
     "metadata": {},
     "output_type": "execute_result"
    }
   ],
   "source": [
    "# 9. Discretization and Binning: cut, qcut\n",
    "\"\"\"\n",
    "    1. pd.cut(x, \n",
    "              bins, \n",
    "              right=True, \n",
    "              labels=None, \n",
    "              precision=3)\n",
    "    \n",
    "    2. pd.qcut(x, \n",
    "               q, \n",
    "               labels=None,  \n",
    "               precision=3)\n",
    "\"\"\""
   ]
  },
  {
   "cell_type": "raw",
   "id": "dca36b5f-290c-419c-bd67-ce59d679c70c",
   "metadata": {},
   "source": [
    "Data Manipulation"
   ]
  },
  {
   "cell_type": "code",
   "execution_count": 26,
   "id": "98d9dae6-9dcf-4167-9106-93f1544fd29a",
   "metadata": {},
   "outputs": [
    {
     "data": {
      "text/plain": [
       "\"\\n    pd.merge(df_1, df_2,\\n             how='inner', \\n             on=None, \\n             left_on=None, \\n             right_on=None, \\n             left_index=False, \\n             right_index=False, \\n             suffixes=('_x', '_y'))\\n    https://pandas.pydata.org/docs/reference/api/pandas.merge.html?highlight=merge#pandas.merge\\n    \\n    df_1.merge(df_2, \\n               how='inner', \\n               on=None, \\n               left_on=None, \\n               right_on=None, \\n               left_index=False, \\n               right_index=False, \\n               suffixes=('_x', '_y'))\\n    \\n    df_1.join(others, \\n              on=None, \\n              how='left', \\n              lsuffix='', \\n              rsuffix='')\\n    == df_1.merge(df_2, left_index=True, right_index=True)\\n    \\n    df_1.join([df_2,df_3,......,df_n], how='inner')\\n    \\n\""
      ]
     },
     "execution_count": 26,
     "metadata": {},
     "output_type": "execute_result"
    }
   ],
   "source": [
    "# 1.Join: merge, join\n",
    "\"\"\"\n",
    "    pd.merge(df_1, df_2,\n",
    "             how='inner', \n",
    "             on=None, \n",
    "             left_on=None, \n",
    "             right_on=None, \n",
    "             left_index=False, \n",
    "             right_index=False, \n",
    "             suffixes=('_x', '_y'))\n",
    "    https://pandas.pydata.org/docs/reference/api/pandas.merge.html?highlight=merge#pandas.merge\n",
    "    \n",
    "    df_1.merge(df_2, \n",
    "               how='inner', \n",
    "               on=None, \n",
    "               left_on=None, \n",
    "               right_on=None, \n",
    "               left_index=False, \n",
    "               right_index=False, \n",
    "               suffixes=('_x', '_y'))\n",
    "    \n",
    "    df_1.join(others, \n",
    "              on=None, \n",
    "              how='left', \n",
    "              lsuffix='', \n",
    "              rsuffix='')\n",
    "    == df_1.merge(df_2, left_index=True, right_index=True)\n",
    "    \n",
    "    df_1.join([df_2,df_3,......,df_n], how='inner')\n",
    "    \n",
    "\"\"\""
   ]
  },
  {
   "cell_type": "code",
   "execution_count": 27,
   "id": "8b2cbc0c-c2c5-45e8-aa98-628a6869d27f",
   "metadata": {},
   "outputs": [
    {
     "data": {
      "text/plain": [
       "'\\n    pd.concat(objs,    [df_1,df_2,series_1]\\n              axis=0, \\n              ignore_index=False,\\n              levels=None)\\n    \\n    df_1.combine_first(df_2)  ------> Update\\n        Update null elements with value in the same location in other.\\n'"
      ]
     },
     "execution_count": 27,
     "metadata": {},
     "output_type": "execute_result"
    }
   ],
   "source": [
    "# 2.Combine: cocnat, combine_first\n",
    "\"\"\"\n",
    "    pd.concat(objs,    [df_1,df_2,series_1]\n",
    "              axis=0, \n",
    "              ignore_index=False,\n",
    "              levels=None)\n",
    "    \n",
    "    df_1.combine_first(df_2)  ------> Update\n",
    "        Update null elements with value in the same location in other.\n",
    "\"\"\""
   ]
  },
  {
   "cell_type": "code",
   "execution_count": null,
   "id": "3bafe744-d8b4-4d7e-8121-e58ecb7e3db3",
   "metadata": {},
   "outputs": [],
   "source": []
  }
 ],
 "metadata": {
  "kernelspec": {
   "display_name": "Python 3 (ipykernel)",
   "language": "python",
   "name": "python3"
  },
  "language_info": {
   "codemirror_mode": {
    "name": "ipython",
    "version": 3
   },
   "file_extension": ".py",
   "mimetype": "text/x-python",
   "name": "python",
   "nbconvert_exporter": "python",
   "pygments_lexer": "ipython3",
   "version": "3.11.8"
  }
 },
 "nbformat": 4,
 "nbformat_minor": 5
}

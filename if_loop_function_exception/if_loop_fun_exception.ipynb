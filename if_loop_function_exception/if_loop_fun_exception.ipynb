{
 "cells": [
  {
   "cell_type": "raw",
   "id": "813b9b55-250f-431c-b41c-f1336905b521",
   "metadata": {},
   "source": [
    "0.1 Operator\n",
    "    1. Arithmetic:\n",
    "        +\n",
    "        -\n",
    "        *\n",
    "        /\n",
    "        %\n",
    "        **\n",
    "        //\n",
    "\n",
    "    2. Comparison:\n",
    "        >\n",
    "        >=\n",
    "        <\n",
    "        <=\n",
    "        ==\n",
    "        != (<>)\n",
    "\n",
    "    3. Assignment:\n",
    "        =\n",
    "        +=:\n",
    "            c+=a -----> c = c + a\n",
    "        -=:\n",
    "            c-=a -----> c = c - a\n",
    "        *=:\n",
    "            c*=a -----> c = c * a\n",
    "        /=:\n",
    "            c/=a -----> c = c / a\n",
    "        %=:\n",
    "            c%=a -----> c = c % a\n",
    "        **=:\n",
    "            c**=a ----> c = c ** a\n",
    "        //=:\n",
    "            c//=a ----> c = c // a\n",
    "\n",
    "    4. Identity:\n",
    "        is\n",
    "        is not\n",
    "\n",
    "    5. Membership:\n",
    "        in\n",
    "        not in\n",
    "\n",
    "    6. Logical:\n",
    "        and (&)\n",
    "        or (|)\n",
    "        not\n",
    "\n",
    "        --------------------------------------- \n",
    "        \n",
    "         \"and\" | True  | False\n",
    "        ---------------------\n",
    "         True  | True  | False\n",
    "        ----------------------\n",
    "         False | False | False\n",
    "        \n",
    "        ---------------------------------------\n",
    "        \n",
    "         \"or\"  | True  | False\n",
    "        ---------------------\n",
    "         True  | True  | True\n",
    "        ----------------------\n",
    "         False | True  | False"
   ]
  },
  {
   "cell_type": "code",
   "execution_count": 1,
   "id": "15b30dd9-9260-4ebf-98a0-84d4056c7621",
   "metadata": {},
   "outputs": [
    {
     "data": {
      "text/plain": [
       "True"
      ]
     },
     "execution_count": 1,
     "metadata": {},
     "output_type": "execute_result"
    }
   ],
   "source": [
    "a = 1\n",
    "a == 1"
   ]
  },
  {
   "cell_type": "code",
   "execution_count": 2,
   "id": "0728bc87-eb2e-43e2-a5c8-69e75edbf84a",
   "metadata": {},
   "outputs": [
    {
     "data": {
      "text/plain": [
       "False"
      ]
     },
     "execution_count": 2,
     "metadata": {},
     "output_type": "execute_result"
    }
   ],
   "source": [
    "a is None\n",
    "import numpy as np\n",
    "a is np.nan"
   ]
  },
  {
   "cell_type": "code",
   "execution_count": 3,
   "id": "5b899558-73cb-4cd8-8004-48e3851c40a0",
   "metadata": {},
   "outputs": [
    {
     "data": {
      "text/plain": [
       "False"
      ]
     },
     "execution_count": 3,
     "metadata": {},
     "output_type": "execute_result"
    }
   ],
   "source": [
    "'a' in ['a',1,2]\n",
    "'a' not in ['a',1,2]"
   ]
  },
  {
   "cell_type": "raw",
   "id": "bdbf0861-e854-45b8-ba25-58efe6f6adfd",
   "metadata": {},
   "source": [
    "1.1 If Elif Else\n",
    "    Structure:\n",
    "        If expression_1 :\n",
    "            .....\n",
    "        elif expression_2 :\n",
    "            .....\n",
    "            .....\n",
    "        elif expression_3 :\n",
    "            .....\n",
    "            .....\n",
    "        elif expression_4 :\n",
    "            .....\n",
    "            .....\n",
    "        else:\n",
    "            ....."
   ]
  },
  {
   "cell_type": "raw",
   "id": "b2230403-dbaf-4d46-bec6-d83e797b8e6c",
   "metadata": {},
   "source": [
    "2.1 Loop: While\n",
    "    When you want to repeat one process until some cretieria is not fulfill(False).\n",
    "    You don't know how many times you want to repeat, use while loop.\n",
    "    Infinite looping if you don't ask it to stop or expression is always true.\n",
    "\n",
    "    Structure:\n",
    "        while expression:\n",
    "            .....\n",
    "            .....\n",
    "        else:\n",
    "            .....\n",
    "            ....."
   ]
  },
  {
   "cell_type": "code",
   "execution_count": 4,
   "id": "bdbd1d23-6c8b-4e33-a8ce-1a068c11cc0f",
   "metadata": {},
   "outputs": [
    {
     "name": "stdout",
     "output_type": "stream",
     "text": [
      "In while loop:  0\n",
      "In while loop:  1\n",
      "In while loop:  2\n",
      "In while loop:  3\n",
      "In while loop:  4\n",
      "In else:  5\n",
      "Out of while:  6\n"
     ]
    }
   ],
   "source": [
    "count = 0\n",
    "while count < 5:\n",
    "    print('In while loop: ', count)\n",
    "    count += 1\n",
    "else:\n",
    "    print('In else: ',count)\n",
    "count += 1\n",
    "print('Out of while: ', count)"
   ]
  },
  {
   "cell_type": "code",
   "execution_count": 5,
   "id": "0cf73ea1-323d-4e88-90a7-25c04d9e5d12",
   "metadata": {},
   "outputs": [
    {
     "name": "stdout",
     "output_type": "stream",
     "text": [
      "In while loop:  0\n",
      "In while loop:  1\n",
      "In while loop:  2\n",
      "In if:  3\n",
      "Out of while:  4\n"
     ]
    }
   ],
   "source": [
    "count = 0\n",
    "while count < 5:\n",
    "    print('In while loop: ', count)\n",
    "    count += 1\n",
    "    if count >= 3:\n",
    "        print('In if: ', count)\n",
    "        break\n",
    "else:\n",
    "    print('In else: ',count)\n",
    "count += 1\n",
    "print('Out of while: ', count)"
   ]
  },
  {
   "cell_type": "code",
   "execution_count": 6,
   "id": "43337107-aee2-4167-8508-13bf4a146191",
   "metadata": {},
   "outputs": [
    {
     "name": "stdout",
     "output_type": "stream",
     "text": [
      "In while loop:  0\n",
      "In while loop:  1\n",
      "In while loop:  2\n",
      "In while loop:  3\n",
      "In while loop:  4\n",
      "Out of while:  6\n"
     ]
    }
   ],
   "source": [
    "count = 0\n",
    "while count < 5:\n",
    "    print('In while loop: ', count)\n",
    "    count += 1\n",
    "count += 1\n",
    "print('Out of while: ', count)"
   ]
  },
  {
   "cell_type": "raw",
   "id": "c71a9010-ac87-4e3b-a2a0-41d5415d857e",
   "metadata": {},
   "source": [
    "2.2 Loop: For\n",
    "    Iterate over the iterable object.\n",
    "    Stop when all item is iterated or manually stoped by users.\n",
    "    The iterating times is known.\n",
    "    \n",
    "    Structure:\n",
    "        For var in iterable:\n",
    "            .....\n",
    "            .....\n",
    "        else:\n",
    "            .....\n",
    "            .....\n",
    "\n",
    "    iterable cound be:\n",
    "        1. string: character\n",
    "        2. list\n",
    "        3. tuple\n",
    "        4. dictionary: key\n",
    "        5. set\n",
    "        6. numpy arrary: value\n",
    "        7. pandas series: value\n",
    "        8. pandas dataframe: column name"
   ]
  },
  {
   "cell_type": "code",
   "execution_count": 7,
   "id": "93d45212-7ae4-4c85-a2b4-476fc6860415",
   "metadata": {},
   "outputs": [
    {
     "name": "stdout",
     "output_type": "stream",
     "text": [
      "a\n",
      "Times:  0\n",
      "b\n",
      "Times:  1\n",
      "c\n",
      "Times:  2\n",
      "d\n",
      "Times:  3\n",
      "e\n",
      "Times:  4\n"
     ]
    }
   ],
   "source": [
    "count = 0\n",
    "for i in ['a','b','c','d','e']:\n",
    "    print(i)\n",
    "    print(\"Times: \", count)\n",
    "    count += 1"
   ]
  },
  {
   "cell_type": "code",
   "execution_count": 8,
   "id": "a7b0b507-a05d-4ee1-baa1-32eab4842581",
   "metadata": {},
   "outputs": [
    {
     "name": "stdout",
     "output_type": "stream",
     "text": [
      "0 a\n",
      "1 b\n",
      "2 c\n",
      "3 d\n",
      "4 e\n"
     ]
    }
   ],
   "source": [
    "for ind, val in enumerate(['a','b','c','d','e']):\n",
    "    print(ind, val)"
   ]
  },
  {
   "cell_type": "code",
   "execution_count": 9,
   "id": "199c986c-4af8-49d4-9d87-4a089bb05aa4",
   "metadata": {},
   "outputs": [
    {
     "name": "stdout",
     "output_type": "stream",
     "text": [
      "key_1\n",
      "key_2\n",
      "key_3\n"
     ]
    }
   ],
   "source": [
    "for i in {'key_1':1,\n",
    "          'key_2':2,\n",
    "          'key_3':3}:\n",
    "    print(i)"
   ]
  },
  {
   "cell_type": "code",
   "execution_count": 10,
   "id": "4b33b213-5d14-456f-b647-6605e87cfd18",
   "metadata": {},
   "outputs": [
    {
     "name": "stdout",
     "output_type": "stream",
     "text": [
      "key_1 1\n",
      "key_2 2\n",
      "key_3 3\n"
     ]
    }
   ],
   "source": [
    "for key, value in {'key_1':1,\n",
    "                   'key_2':2,\n",
    "                   'key_3':3}.items():\n",
    "    print(key, value)"
   ]
  },
  {
   "cell_type": "code",
   "execution_count": 11,
   "id": "937b7a68-5eee-4bfa-ab99-8c5bc2cac8bc",
   "metadata": {},
   "outputs": [
    {
     "name": "stdout",
     "output_type": "stream",
     "text": [
      "1\n",
      "2\n",
      "3\n"
     ]
    }
   ],
   "source": [
    "for value in {'key_1':1,\n",
    "              'key_2':2,\n",
    "              'key_3':3}.values():\n",
    "    print(value)"
   ]
  },
  {
   "cell_type": "code",
   "execution_count": 12,
   "id": "ad95d1d5-9def-4388-8fa4-07c89642f5d6",
   "metadata": {},
   "outputs": [
    {
     "name": "stdout",
     "output_type": "stream",
     "text": [
      "a\n",
      "p\n",
      "p\n",
      "l\n",
      "e\n",
      "0 a\n",
      "1 p\n",
      "2 p\n",
      "3 l\n",
      "4 e\n"
     ]
    }
   ],
   "source": [
    "for char in 'apple':\n",
    "    print(char)\n",
    "\n",
    "for ind,char in enumerate('apple'):\n",
    "    print(ind,char)"
   ]
  },
  {
   "cell_type": "code",
   "execution_count": 13,
   "id": "537123d6-a452-4c83-99cb-43c4200820ac",
   "metadata": {},
   "outputs": [
    {
     "name": "stdout",
     "output_type": "stream",
     "text": [
      "1\n",
      "2\n",
      "3\n"
     ]
    }
   ],
   "source": [
    "import pandas as pd\n",
    "for i in pd.Series([1,2,3], index=['ind_1', 'ind_2', 'ind_3']):\n",
    "    print(i)"
   ]
  },
  {
   "cell_type": "code",
   "execution_count": 14,
   "id": "2e7a55b6-b61a-4cce-a173-83f8578f6571",
   "metadata": {},
   "outputs": [
    {
     "name": "stdout",
     "output_type": "stream",
     "text": [
      "col_1\n",
      "col_2\n",
      "col_3\n"
     ]
    }
   ],
   "source": [
    "import pandas as pd\n",
    "for i in pd.DataFrame([[1,2,3],[4,5,6], [7,8,9]], \n",
    "                      index=['row_1', 'row_2', 'row_3'], \n",
    "                      columns=['col_1', 'col_2', 'col_3']):\n",
    "    print(i)"
   ]
  },
  {
   "cell_type": "raw",
   "id": "207fc5c7-7c28-46b5-ab16-0c5cfe1d204c",
   "metadata": {},
   "source": [
    "2.3 Loop: Control\n",
    "    pass:\n",
    "        do nothing\n",
    "    continue:\n",
    "        go to the next iteration\n",
    "    break:\n",
    "        manually exit the loop"
   ]
  },
  {
   "cell_type": "code",
   "execution_count": 15,
   "id": "9093cab3-a778-49ef-9c15-508c8b0a0b60",
   "metadata": {},
   "outputs": [
    {
     "name": "stdout",
     "output_type": "stream",
     "text": [
      "2\n",
      "4\n",
      "6\n",
      "8\n",
      "10\n",
      "12\n",
      "14\n",
      "16\n",
      "18\n",
      "20\n",
      "22\n",
      "24\n",
      "26\n",
      "28\n",
      "30\n",
      "Stop, because 31>30\n",
      "For Loop ends.\n"
     ]
    }
   ],
   "source": [
    "for i in range(1,101):\n",
    "    if i%2 == 0:  #even\n",
    "        print(i)\n",
    "        continue\n",
    "    elif i > 30:\n",
    "        print(\"Stop, because {}>30\".format(i))\n",
    "        break\n",
    "    else:\n",
    "        pass\n",
    "print(\"For Loop ends.\")"
   ]
  },
  {
   "cell_type": "raw",
   "id": "bb4e8ddc-021d-416f-9d0f-36d888599d7f",
   "metadata": {},
   "source": [
    "4.1 Function\n",
    "    Given inputs and doing some processes, and generate outputs(optional)\n",
    "    When one process would be use multiple times, \n",
    "        we can make it a \"function\" and call it.\n",
    "    All the variables you assigned in the function definition will be created temporary,\n",
    "        and be deleted when the function is over.\n",
    "    \n",
    "    Define a function:\n",
    "        def function_name(inputs):\n",
    "            ......\n",
    "            ......\n",
    "            ......\n",
    "            return xxx,yyy,zzz #------> return is optional, if you want to output something, return it.\n",
    "\n",
    "    Call a function:\n",
    "        function_name(inputs)\n",
    "        x,y,z = function_name(inputs)"
   ]
  },
  {
   "cell_type": "code",
   "execution_count": 22,
   "id": "426c7d60-70c1-45db-a2af-5fc88b105334",
   "metadata": {},
   "outputs": [
    {
     "name": "stdout",
     "output_type": "stream",
     "text": [
      "6.324555320336759\n"
     ]
    }
   ],
   "source": [
    "#e.g.1 return the distance between two points\n",
    "def dis_cal(a,b):\n",
    "    dis = 0\n",
    "    for i in range(len(a)):\n",
    "        dis += (a[i]-b[i])**2\n",
    "    return dis**0.5\n",
    "a = (1,2,3,4,5)\n",
    "b = (5,4,3,2,1)\n",
    "dis_ab = dis_cal(a, b)\n",
    "print(dis_ab)"
   ]
  },
  {
   "cell_type": "raw",
   "id": "662d29be-7551-4b9f-9eaf-e0c5faa39309",
   "metadata": {},
   "source": [
    "4.2 Function: inputs\n",
    "    There are four types of inputs can be used:\n",
    "        1. position:\n",
    "            use the position(order) of inputs to assign them\n",
    "        2. keyword:\n",
    "            assign inputs directly by '='\n",
    "        3. *:\n",
    "            change the length changeable input into a tuple, and assign them by position. \n",
    "        4. **:\n",
    "            change the input into a dictionary"
   ]
  },
  {
   "cell_type": "code",
   "execution_count": 19,
   "id": "1626c851-cf12-4f4c-87d9-f806fc6cab7e",
   "metadata": {},
   "outputs": [
    {
     "name": "stdout",
     "output_type": "stream",
     "text": [
      "15\n",
      "15\n"
     ]
    }
   ],
   "source": [
    "#e.g.1 postion & keyword\n",
    "def sum_all(a,b,c,d,e):\n",
    "    res = a+b+c+d+e\n",
    "    return res\n",
    "s_pos = sum_all(1, 2, 3, 4, 5)\n",
    "s_key = sum_all(e=5, a=1, c=3, b=2, d=4)"
   ]
  },
  {
   "cell_type": "code",
   "execution_count": 20,
   "id": "2e95b9f8-f762-49c5-b764-3523dc69df73",
   "metadata": {},
   "outputs": [
    {
     "name": "stdout",
     "output_type": "stream",
     "text": [
      "Type of c:  <class 'tuple'>\n",
      "c:  (1, 2, 3, 4, 5)\n",
      "15\n"
     ]
    }
   ],
   "source": [
    "#e.g.2 *\n",
    "def sum_all_star(*c):\n",
    "    print('Type of c: ', type(c))\n",
    "    print('c: ', c)\n",
    "    res = sum(c)\n",
    "    return res\n",
    "s_star = sum_all_star(1, 2, 3, 4, 5)\n",
    "\n",
    "def sum_all_star_inv(a,b,c,d,e):\n",
    "    res = a + b + c + d + e\n",
    "    return res\n",
    "s_star = sum_all_star_inv(*(1, 2, 3, 4, 5))\n",
    "                         #*[1, 2, 3, 4, 5]\n",
    "                         #(1,2,3,4,5)   "
   ]
  },
  {
   "cell_type": "code",
   "execution_count": 21,
   "id": "f4486f47-89e2-4d9d-8c6c-e923debb5464",
   "metadata": {},
   "outputs": [],
   "source": [
    "#e.g.3 **\n",
    "\n",
    "def sum_all_star2(**c):\n",
    "    print('Type of c: ', type(c))\n",
    "    print('c: ', c)\n",
    "    res = sum(list(c.values()))\n",
    "    return res\n",
    "sum_all_star2 = sum_all_star2(key1=3, key2=4, key3=5)\n",
    "                            #{'key1':3, 'key2':4, 'key3':5}\n",
    "\n",
    "def sum_all_star2_inv(a,b,c):\n",
    "    return a+b+c\n",
    "sum_all_star2 = sum_all_star2_inv(**{'a':1,\n",
    "                                     'b':2,\n",
    "                                     'c':3})\n",
    "                                 #(a=1, b=2, c=3)"
   ]
  },
  {
   "cell_type": "raw",
   "id": "c8b6783f-492c-423f-9caa-ecc138d9accf",
   "metadata": {},
   "source": [
    "4.3 Function: global, local, nonlocal\n",
    "    The variables inside and outside the function have no connection, \n",
    "        which meas you have no accesses to chage or view variables outside the function when inside the function, vice versa.\n",
    "    The words \"global\", or 'nonlocal' give you the access.\n",
    "    \n",
    "    golbal:\n",
    "        call in the variable that is not in inputs but outside all the functions. \n",
    "\n",
    "    nonlocal:\n",
    "        call in the variable that is not in inputs but right outside the current function."
   ]
  },
  {
   "cell_type": "code",
   "execution_count": 23,
   "id": "ed0ec3e3-1d0c-4f57-a5c5-e107bb3fe6fa",
   "metadata": {},
   "outputs": [
    {
     "ename": "UnboundLocalError",
     "evalue": "cannot access local variable 'a' where it is not associated with a value",
     "output_type": "error",
     "traceback": [
      "\u001b[1;31m---------------------------------------------------------------------------\u001b[0m",
      "\u001b[1;31mUnboundLocalError\u001b[0m                         Traceback (most recent call last)",
      "Cell \u001b[1;32mIn[23], line 6\u001b[0m\n\u001b[0;32m      4\u001b[0m     \u001b[38;5;28mprint\u001b[39m(a)\n\u001b[0;32m      5\u001b[0m     a \u001b[38;5;241m=\u001b[39m \u001b[38;5;241m10\u001b[39m\n\u001b[1;32m----> 6\u001b[0m change_global()\n\u001b[0;32m      7\u001b[0m \u001b[38;5;28mprint\u001b[39m(a)\n",
      "Cell \u001b[1;32mIn[23], line 4\u001b[0m, in \u001b[0;36mchange_global\u001b[1;34m()\u001b[0m\n\u001b[0;32m      3\u001b[0m \u001b[38;5;28;01mdef\u001b[39;00m \u001b[38;5;21mchange_global\u001b[39m():\n\u001b[1;32m----> 4\u001b[0m     \u001b[38;5;28mprint\u001b[39m(a)\n\u001b[0;32m      5\u001b[0m     a \u001b[38;5;241m=\u001b[39m \u001b[38;5;241m10\u001b[39m\n",
      "\u001b[1;31mUnboundLocalError\u001b[0m: cannot access local variable 'a' where it is not associated with a value"
     ]
    }
   ],
   "source": [
    "#e.g.1 The furthest outside value cannot be accessed and changed\n",
    "a = 100\n",
    "def change_global():\n",
    "    print(a)\n",
    "    a = 10\n",
    "change_global()\n",
    "print(a)"
   ]
  },
  {
   "cell_type": "code",
   "execution_count": 24,
   "id": "3cba5d7a-a97c-425e-92a0-0e3918bc60cf",
   "metadata": {},
   "outputs": [
    {
     "name": "stdout",
     "output_type": "stream",
     "text": [
      "Before change:  100\n",
      "After change:  10\n"
     ]
    }
   ],
   "source": [
    "#e.g.2 Use \"global\" to get the global value\n",
    "a = 100 #global variabe\n",
    "def change_global():\n",
    "    global a\n",
    "    print(\"Before change: \", a)\n",
    "    a = 10\n",
    "change_global()\n",
    "print(\"After change: \", a)"
   ]
  },
  {
   "cell_type": "code",
   "execution_count": 25,
   "id": "ce6592e3-f9fc-4253-87bd-ad1b7ded284b",
   "metadata": {},
   "outputs": [
    {
     "name": "stdout",
     "output_type": "stream",
     "text": [
      "Before change:  100\n",
      "After change:  10\n"
     ]
    }
   ],
   "source": [
    "#e.g.2.1\n",
    "a = 100 #global variable\n",
    "def change_global(a):\n",
    "    print(\"Before change: \", a)\n",
    "    a = 10\n",
    "    return a\n",
    "a = change_global(a)\n",
    "print(\"After change: \", a)"
   ]
  },
  {
   "cell_type": "code",
   "execution_count": 26,
   "id": "480a1fc2-4860-4830-a9fe-62d4483235e0",
   "metadata": {},
   "outputs": [
    {
     "name": "stdout",
     "output_type": "stream",
     "text": [
      "Fin:  110\n",
      "Ret:  270\n",
      "Adv:  330\n"
     ]
    }
   ],
   "source": [
    "#e.g.2.2\n",
    "fin = 100\n",
    "ret = 250\n",
    "adv = 300\n",
    "\n",
    "def summary_acco(fin_in, ret_in, adv_in,\n",
    "                  a, b, c):\n",
    "    fin_new = a + fin_in\n",
    "    ret_new = b + ret_in\n",
    "    adv_new = c + adv_in\n",
    "    return fin_new, ret_new, adv_new\n",
    "fin, ret, adv = summary_acco(50, 60, 10, fin, ret, adv)\n",
    "\n",
    "fin = 100\n",
    "ret = 250\n",
    "adv = 300\n",
    "def summary_acco_glo(fin_in, ret_in, adv_in):\n",
    "    global fin, ret, adv\n",
    "    fin += fin_in\n",
    "    ret += ret_in\n",
    "    adv += adv_in\n",
    "summary_acco_glo(10,20,30)\n",
    "print('Fin: ', fin)\n",
    "print('Ret: ', ret)\n",
    "print('Adv: ', adv)"
   ]
  },
  {
   "cell_type": "code",
   "execution_count": 27,
   "id": "99f44ab3-bcbe-429b-a15b-94062af4cab3",
   "metadata": {},
   "outputs": [
    {
     "name": "stdout",
     "output_type": "stream",
     "text": [
      "100\n",
      "10\n",
      "1000\n",
      "10\n"
     ]
    }
   ],
   "source": [
    "#e.g nonlocal\n",
    "x = 10\n",
    "def outer():\n",
    "    x = 100\n",
    "    def inner():\n",
    "        x = 1000\n",
    "    inner()\n",
    "    print(x)\n",
    "outer()\n",
    "print(x)\n",
    "#------------------\n",
    "x = 10\n",
    "def outer():\n",
    "    x = 100\n",
    "    def inner():\n",
    "        nonlocal x\n",
    "        x = 1000\n",
    "    inner()\n",
    "    print(x)\n",
    "outer()\n",
    "print(x)"
   ]
  },
  {
   "cell_type": "raw",
   "id": "4699b27b-abaa-467d-9809-327c0fb94e38",
   "metadata": {},
   "source": [
    "5.1 Exception\n",
    "\n",
    "    In python, \"error\", i.e. \"exception\", is also a object. \n",
    "    When pytho get a exception, the whole process will stop and throw out the error object.\n",
    "    \n",
    "    Below are some common error objects:\n",
    "        Exception: most of the error can be see as this\n",
    "        AttributeError\n",
    "        FileNotFoundError\n",
    "        IOError\n",
    "        IndexError\n",
    "        KeyError\n",
    "        MemoryError\n",
    "        NameError\n",
    "        SyntaxError\n",
    "        SystemError\n",
    "        TypeError\n",
    "        ValueError\n",
    "        ZeroDivisionError\n",
    "    \n",
    "    We can use tyr-except to avoid stoping when getting an error.\n",
    "    Python will try the line in \"try\" section.\n",
    "    If python get error object, go to corresponding \"except\" section\n",
    "    No matter if a exception occur, python will go in to the \"finally\" section.\n",
    "    \n",
    "    Structure:\n",
    "        try:\n",
    "            ......\n",
    "            ......\n",
    "        except error_object1(optional, can be multiple):\n",
    "            ......\n",
    "            ......\n",
    "        except error_object2(optional, can be multiple):\n",
    "            ......\n",
    "            ......\n",
    "        finally:\n",
    "            ......\n",
    "            ......"
   ]
  },
  {
   "cell_type": "code",
   "execution_count": 28,
   "id": "513aa261-9435-4f33-8e0b-39b6bd0d5de7",
   "metadata": {},
   "outputs": [
    {
     "name": "stdout",
     "output_type": "stream",
     "text": [
      "The value of index 0 is 1\n",
      "The value of index 1 is 2\n",
      "The value of index 2 is 3\n",
      "The value of index 3 is 4\n",
      "The value of index 4 is 5\n",
      "Index 5 out of range.\n"
     ]
    }
   ],
   "source": [
    "#e.g.1.\n",
    "lis = [1,2,3,4,5] #index should be 0 to 4\n",
    "for i in range(10):\n",
    "    try:\n",
    "        print(\"The value of index {} is {}\".format(i, lis[i]))\n",
    "    except IndexError:\n",
    "        print(\"Index {} out of range.\".format(i))\n",
    "        break\n",
    "    except KeyError:\n",
    "        print(\"key\")"
   ]
  },
  {
   "cell_type": "code",
   "execution_count": 29,
   "id": "744de6f2-8e66-4058-b3e0-e68c51f333a9",
   "metadata": {},
   "outputs": [
    {
     "name": "stdout",
     "output_type": "stream",
     "text": [
      "The value of index 0 is 1\n",
      "The value of index 1 is 2\n",
      "The value of index 2 is 3\n",
      "The value of index 3 is 4\n",
      "The value of index 4 is 5\n",
      "Index 5 out of range.\n"
     ]
    }
   ],
   "source": [
    "#e.g.1.1\n",
    "lis = [1,2,3,4,5] #index should be 0 to 4\n",
    "for i in range(10):\n",
    "    try:\n",
    "        print(\"The value of index {} is {}\".format(i, lis[i]))\n",
    "    except:\n",
    "        print(\"Index {} out of range.\".format(i))\n",
    "        break"
   ]
  },
  {
   "cell_type": "code",
   "execution_count": 30,
   "id": "1dc480a4-4aec-434f-8a50-f716ec0d8b01",
   "metadata": {},
   "outputs": [
    {
     "name": "stdout",
     "output_type": "stream",
     "text": [
      "The value of index 0 is 1\n",
      "The value of index 1 is 2\n",
      "The value of index 2 is 3\n",
      "The value of index 3 is 4\n",
      "The value of index 4 is 5\n",
      "Default error message is: \n",
      " list index out of range\n",
      "Index 5 out of range.\n"
     ]
    }
   ],
   "source": [
    "#e.g.1.2 We can know what type of error occured(error message)\n",
    "lis = [1,2,3,4,5] #index should be 0 to 4\n",
    "for i in range(10):\n",
    "    try:\n",
    "        print(\"The value of index {} is {}\".format(i, lis[i]))\n",
    "    except Exception as e:\n",
    "        print(\"Default error message is: \\n\", e)\n",
    "        print(\"Index {} out of range.\".format(i))\n",
    "        break"
   ]
  },
  {
   "cell_type": "raw",
   "id": "aee73ecf-3361-4856-a8e5-72c0c3561a03",
   "metadata": {},
   "source": [
    "Supplemental Material:\n",
    "    We can define our own error message."
   ]
  },
  {
   "cell_type": "code",
   "execution_count": 31,
   "id": "77749175-d882-47cc-a871-6553522611de",
   "metadata": {},
   "outputs": [
    {
     "name": "stdout",
     "output_type": "stream",
     "text": [
      "The value of index 0 is 1\n",
      "The value of index 1 is 2\n",
      "The value of index 2 is 3\n",
      "The value of index 3 is 4\n",
      "The value of index 4 is 5\n",
      "Error message is: \n",
      " Own Error: out of range\n",
      "Index 5 out of range.\n"
     ]
    }
   ],
   "source": [
    "#e.g\n",
    "lis = [1,2,3,4,5] #index should be 0 to 4\n",
    "for i in range(10):\n",
    "    try:\n",
    "        if i > len(lis)-1:\n",
    "            raise Exception(\"Own Error: out of range\")\n",
    "        else:\n",
    "            print(\"The value of index {} is {}\".format(i, lis[i]))\n",
    "    except Exception as e:\n",
    "        print(\"Error message is: \\n\", e)\n",
    "        print(\"Index {} out of range.\".format(i))\n",
    "        break"
   ]
  },
  {
   "cell_type": "code",
   "execution_count": null,
   "id": "8f89802f-ffec-4c8d-a60e-478c9e8f9b8d",
   "metadata": {},
   "outputs": [],
   "source": []
  }
 ],
 "metadata": {
  "kernelspec": {
   "display_name": "Python 3 (ipykernel)",
   "language": "python",
   "name": "python3"
  },
  "language_info": {
   "codemirror_mode": {
    "name": "ipython",
    "version": 3
   },
   "file_extension": ".py",
   "mimetype": "text/x-python",
   "name": "python",
   "nbconvert_exporter": "python",
   "pygments_lexer": "ipython3",
   "version": "3.11.8"
  }
 },
 "nbformat": 4,
 "nbformat_minor": 5
}
